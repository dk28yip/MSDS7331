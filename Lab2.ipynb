{
 "cells": [
  {
   "cell_type": "markdown",
   "id": "8e008534",
   "metadata": {},
   "source": [
    "# MSDS 7331 - Lab 2 - Airline Satisfaction Dataset\n",
    "***\n",
    "Team - Triston Hudgins, Shijo Joseph, Osman Kanteh, Douglas Yip"
   ]
  },
  {
   "cell_type": "code",
   "execution_count": 1,
   "id": "696d3340",
   "metadata": {},
   "outputs": [],
   "source": [
    "### Douglas to write up some bullshit about dataset"
   ]
  },
  {
   "cell_type": "code",
   "execution_count": 86,
   "id": "0640c2ce",
   "metadata": {},
   "outputs": [],
   "source": [
    "## Setup\n",
    "import pandas as pd\n",
    "import numpy as np\n",
    "import matplotlib.pyplot as plt\n",
    "import warnings\n",
    "warnings.simplefilter('ignore', DeprecationWarning)\n",
    "%matplotlib inline\n",
    "import seaborn as sns\n",
    "import plotly.express as px\n",
    "\n",
    "from sklearn.manifold import TSNE\n",
    "from sklearn.decomposition import PCA\n",
    "from sklearn.discriminant_analysis import LinearDiscriminantAnalysis as LDA\n",
    "from sklearn.preprocessing import StandardScaler\n",
    "from matplotlib.pyplot import scatter\n",
    "import plotly\n",
    "from plotly.graph_objs import Scatter, Marker, Layout, layout,XAxis, YAxis, Bar, Line\n",
    "%matplotlib inline\n",
    "\n",
    "##Decision tree setup\n",
    "from sklearn.tree import DecisionTreeClassifier\n",
    "from sklearn.model_selection import train_test_split\n",
    "from sklearn.metrics import confusion_matrix"
   ]
  },
  {
   "cell_type": "markdown",
   "id": "f770f71e",
   "metadata": {},
   "source": [
    "***\n",
    "### Data Preparation 1 ( 10 points total) Define and prepare your class variables. Use proper variable representations (int, float, one-hot, etc.). Use pre-processing methods (as needed) for dimensionality reduction, scaling, etc. Remove variables that are not needed/useful for the analysis."
   ]
  },
  {
   "cell_type": "code",
   "execution_count": 87,
   "id": "d8c533a5",
   "metadata": {},
   "outputs": [
    {
     "data": {
      "text/html": [
       "<div>\n",
       "<style scoped>\n",
       "    .dataframe tbody tr th:only-of-type {\n",
       "        vertical-align: middle;\n",
       "    }\n",
       "\n",
       "    .dataframe tbody tr th {\n",
       "        vertical-align: top;\n",
       "    }\n",
       "\n",
       "    .dataframe thead th {\n",
       "        text-align: right;\n",
       "    }\n",
       "</style>\n",
       "<table border=\"1\" class=\"dataframe\">\n",
       "  <thead>\n",
       "    <tr style=\"text-align: right;\">\n",
       "      <th></th>\n",
       "      <th>id</th>\n",
       "      <th>Gender</th>\n",
       "      <th>Customer Type</th>\n",
       "      <th>Age</th>\n",
       "      <th>Type of Travel</th>\n",
       "      <th>Class</th>\n",
       "      <th>Flight Distance</th>\n",
       "      <th>Inflight wifi service</th>\n",
       "      <th>Departure/Arrival time convenient</th>\n",
       "      <th>Ease of Online booking</th>\n",
       "      <th>...</th>\n",
       "      <th>Inflight entertainment</th>\n",
       "      <th>On-board service</th>\n",
       "      <th>Leg room service</th>\n",
       "      <th>Baggage handling</th>\n",
       "      <th>Checkin service</th>\n",
       "      <th>Inflight service</th>\n",
       "      <th>Cleanliness</th>\n",
       "      <th>Departure Delay in Minutes</th>\n",
       "      <th>Arrival Delay in Minutes</th>\n",
       "      <th>satisfaction</th>\n",
       "    </tr>\n",
       "  </thead>\n",
       "  <tbody>\n",
       "    <tr>\n",
       "      <th>0</th>\n",
       "      <td>70172</td>\n",
       "      <td>Male</td>\n",
       "      <td>Loyal Customer</td>\n",
       "      <td>13</td>\n",
       "      <td>Personal Travel</td>\n",
       "      <td>Eco Plus</td>\n",
       "      <td>460</td>\n",
       "      <td>3</td>\n",
       "      <td>4</td>\n",
       "      <td>3</td>\n",
       "      <td>...</td>\n",
       "      <td>5</td>\n",
       "      <td>4</td>\n",
       "      <td>3</td>\n",
       "      <td>4</td>\n",
       "      <td>4</td>\n",
       "      <td>5</td>\n",
       "      <td>5</td>\n",
       "      <td>25</td>\n",
       "      <td>18.0</td>\n",
       "      <td>neutral or dissatisfied</td>\n",
       "    </tr>\n",
       "    <tr>\n",
       "      <th>1</th>\n",
       "      <td>5047</td>\n",
       "      <td>Male</td>\n",
       "      <td>disloyal Customer</td>\n",
       "      <td>25</td>\n",
       "      <td>Business travel</td>\n",
       "      <td>Business</td>\n",
       "      <td>235</td>\n",
       "      <td>3</td>\n",
       "      <td>2</td>\n",
       "      <td>3</td>\n",
       "      <td>...</td>\n",
       "      <td>1</td>\n",
       "      <td>1</td>\n",
       "      <td>5</td>\n",
       "      <td>3</td>\n",
       "      <td>1</td>\n",
       "      <td>4</td>\n",
       "      <td>1</td>\n",
       "      <td>1</td>\n",
       "      <td>6.0</td>\n",
       "      <td>neutral or dissatisfied</td>\n",
       "    </tr>\n",
       "    <tr>\n",
       "      <th>2</th>\n",
       "      <td>110028</td>\n",
       "      <td>Female</td>\n",
       "      <td>Loyal Customer</td>\n",
       "      <td>26</td>\n",
       "      <td>Business travel</td>\n",
       "      <td>Business</td>\n",
       "      <td>1142</td>\n",
       "      <td>2</td>\n",
       "      <td>2</td>\n",
       "      <td>2</td>\n",
       "      <td>...</td>\n",
       "      <td>5</td>\n",
       "      <td>4</td>\n",
       "      <td>3</td>\n",
       "      <td>4</td>\n",
       "      <td>4</td>\n",
       "      <td>4</td>\n",
       "      <td>5</td>\n",
       "      <td>0</td>\n",
       "      <td>0.0</td>\n",
       "      <td>satisfied</td>\n",
       "    </tr>\n",
       "    <tr>\n",
       "      <th>3</th>\n",
       "      <td>24026</td>\n",
       "      <td>Female</td>\n",
       "      <td>Loyal Customer</td>\n",
       "      <td>25</td>\n",
       "      <td>Business travel</td>\n",
       "      <td>Business</td>\n",
       "      <td>562</td>\n",
       "      <td>2</td>\n",
       "      <td>5</td>\n",
       "      <td>5</td>\n",
       "      <td>...</td>\n",
       "      <td>2</td>\n",
       "      <td>2</td>\n",
       "      <td>5</td>\n",
       "      <td>3</td>\n",
       "      <td>1</td>\n",
       "      <td>4</td>\n",
       "      <td>2</td>\n",
       "      <td>11</td>\n",
       "      <td>9.0</td>\n",
       "      <td>neutral or dissatisfied</td>\n",
       "    </tr>\n",
       "    <tr>\n",
       "      <th>4</th>\n",
       "      <td>119299</td>\n",
       "      <td>Male</td>\n",
       "      <td>Loyal Customer</td>\n",
       "      <td>61</td>\n",
       "      <td>Business travel</td>\n",
       "      <td>Business</td>\n",
       "      <td>214</td>\n",
       "      <td>3</td>\n",
       "      <td>3</td>\n",
       "      <td>3</td>\n",
       "      <td>...</td>\n",
       "      <td>3</td>\n",
       "      <td>3</td>\n",
       "      <td>4</td>\n",
       "      <td>4</td>\n",
       "      <td>3</td>\n",
       "      <td>3</td>\n",
       "      <td>3</td>\n",
       "      <td>0</td>\n",
       "      <td>0.0</td>\n",
       "      <td>satisfied</td>\n",
       "    </tr>\n",
       "  </tbody>\n",
       "</table>\n",
       "<p>5 rows × 24 columns</p>\n",
       "</div>"
      ],
      "text/plain": [
       "       id  Gender      Customer Type  Age   Type of Travel     Class  \\\n",
       "0   70172    Male     Loyal Customer   13  Personal Travel  Eco Plus   \n",
       "1    5047    Male  disloyal Customer   25  Business travel  Business   \n",
       "2  110028  Female     Loyal Customer   26  Business travel  Business   \n",
       "3   24026  Female     Loyal Customer   25  Business travel  Business   \n",
       "4  119299    Male     Loyal Customer   61  Business travel  Business   \n",
       "\n",
       "   Flight Distance  Inflight wifi service  Departure/Arrival time convenient  \\\n",
       "0              460                      3                                  4   \n",
       "1              235                      3                                  2   \n",
       "2             1142                      2                                  2   \n",
       "3              562                      2                                  5   \n",
       "4              214                      3                                  3   \n",
       "\n",
       "   Ease of Online booking  ...  Inflight entertainment  On-board service  \\\n",
       "0                       3  ...                       5                 4   \n",
       "1                       3  ...                       1                 1   \n",
       "2                       2  ...                       5                 4   \n",
       "3                       5  ...                       2                 2   \n",
       "4                       3  ...                       3                 3   \n",
       "\n",
       "   Leg room service  Baggage handling  Checkin service  Inflight service  \\\n",
       "0                 3                 4                4                 5   \n",
       "1                 5                 3                1                 4   \n",
       "2                 3                 4                4                 4   \n",
       "3                 5                 3                1                 4   \n",
       "4                 4                 4                3                 3   \n",
       "\n",
       "   Cleanliness  Departure Delay in Minutes  Arrival Delay in Minutes  \\\n",
       "0            5                          25                      18.0   \n",
       "1            1                           1                       6.0   \n",
       "2            5                           0                       0.0   \n",
       "3            2                          11                       9.0   \n",
       "4            3                           0                       0.0   \n",
       "\n",
       "              satisfaction  \n",
       "0  neutral or dissatisfied  \n",
       "1  neutral or dissatisfied  \n",
       "2                satisfied  \n",
       "3  neutral or dissatisfied  \n",
       "4                satisfied  \n",
       "\n",
       "[5 rows x 24 columns]"
      ]
     },
     "execution_count": 87,
     "metadata": {},
     "output_type": "execute_result"
    }
   ],
   "source": [
    "# load the airline satisfaction  dataset\n",
    "\n",
    "df = pd.read_csv('https://raw.githubusercontent.com/dk28yip/MSDS7331/main/airline.csv') # read in the csv file\n",
    "df.head()\n"
   ]
  },
  {
   "cell_type": "markdown",
   "id": "e539e7ab",
   "metadata": {},
   "source": [
    "#### Check for NAs\n"
   ]
  },
  {
   "cell_type": "code",
   "execution_count": 88,
   "id": "8ad56ca6",
   "metadata": {
    "scrolled": false
   },
   "outputs": [
    {
     "data": {
      "application/vnd.plotly.v1+json": {
       "config": {
        "plotlyServerURL": "https://plot.ly"
       },
       "data": [
        {
         "alignmentgroup": "True",
         "hovertemplate": "Type=Missingness<br>Feature=%{x}<br>Missing %=%{y}<extra></extra>",
         "legendgroup": "Missingness",
         "marker": {
          "color": "red",
          "opacity": 0.6,
          "pattern": {
           "shape": ""
          }
         },
         "name": "Missingness",
         "offsetgroup": "Missingness",
         "orientation": "v",
         "showlegend": true,
         "textposition": "auto",
         "type": "bar",
         "x": [
          "id",
          "Departure Delay in Minutes",
          "Cleanliness",
          "Inflight service",
          "Checkin service",
          "Baggage handling",
          "Leg room service",
          "On-board service",
          "Inflight entertainment",
          "Seat comfort",
          "Online boarding",
          "Food and drink",
          "Gate location",
          "Ease of Online booking",
          "Departure/Arrival time convenient",
          "Inflight wifi service",
          "Flight Distance",
          "Class",
          "Type of Travel",
          "Age",
          "Customer Type",
          "Gender",
          "satisfaction",
          "Arrival Delay in Minutes"
         ],
         "xaxis": "x",
         "y": [
          0,
          0,
          0,
          0,
          0,
          0,
          0,
          0,
          0,
          0,
          0,
          0,
          0,
          0,
          0,
          0,
          0,
          0,
          0,
          0,
          0,
          0,
          0,
          0.2984
         ],
         "yaxis": "y"
        },
        {
         "alignmentgroup": "True",
         "hovertemplate": "Type=Completeness<br>Feature=%{x}<br>Missing %=%{y}<extra></extra>",
         "legendgroup": "Completeness",
         "marker": {
          "color": "#808080",
          "opacity": 0.6,
          "pattern": {
           "shape": ""
          }
         },
         "name": "Completeness",
         "offsetgroup": "Completeness",
         "orientation": "v",
         "showlegend": true,
         "textposition": "auto",
         "type": "bar",
         "x": [
          "id",
          "Gender",
          "Customer Type",
          "Age",
          "Type of Travel",
          "Class",
          "Flight Distance",
          "Inflight wifi service",
          "Departure/Arrival time convenient",
          "Ease of Online booking",
          "Gate location",
          "Food and drink",
          "Online boarding",
          "Seat comfort",
          "Inflight entertainment",
          "On-board service",
          "Leg room service",
          "Baggage handling",
          "Checkin service",
          "Inflight service",
          "Cleanliness",
          "Departure Delay in Minutes",
          "Arrival Delay in Minutes",
          "satisfaction"
         ],
         "xaxis": "x",
         "y": [
          100,
          100,
          100,
          100,
          100,
          100,
          100,
          100,
          100,
          100,
          100,
          100,
          100,
          100,
          100,
          100,
          100,
          100,
          100,
          100,
          100,
          100,
          99,
          100
         ],
         "yaxis": "y"
        }
       ],
       "layout": {
        "barmode": "relative",
        "height": 800,
        "legend": {
         "title": {
          "text": "Type"
         },
         "tracegroupgap": 0
        },
        "template": {
         "data": {
          "bar": [
           {
            "error_x": {
             "color": "#2a3f5f"
            },
            "error_y": {
             "color": "#2a3f5f"
            },
            "marker": {
             "line": {
              "color": "#E5ECF6",
              "width": 0.5
             },
             "pattern": {
              "fillmode": "overlay",
              "size": 10,
              "solidity": 0.2
             }
            },
            "type": "bar"
           }
          ],
          "barpolar": [
           {
            "marker": {
             "line": {
              "color": "#E5ECF6",
              "width": 0.5
             },
             "pattern": {
              "fillmode": "overlay",
              "size": 10,
              "solidity": 0.2
             }
            },
            "type": "barpolar"
           }
          ],
          "carpet": [
           {
            "aaxis": {
             "endlinecolor": "#2a3f5f",
             "gridcolor": "white",
             "linecolor": "white",
             "minorgridcolor": "white",
             "startlinecolor": "#2a3f5f"
            },
            "baxis": {
             "endlinecolor": "#2a3f5f",
             "gridcolor": "white",
             "linecolor": "white",
             "minorgridcolor": "white",
             "startlinecolor": "#2a3f5f"
            },
            "type": "carpet"
           }
          ],
          "choropleth": [
           {
            "colorbar": {
             "outlinewidth": 0,
             "ticks": ""
            },
            "type": "choropleth"
           }
          ],
          "contour": [
           {
            "colorbar": {
             "outlinewidth": 0,
             "ticks": ""
            },
            "colorscale": [
             [
              0,
              "#0d0887"
             ],
             [
              0.1111111111111111,
              "#46039f"
             ],
             [
              0.2222222222222222,
              "#7201a8"
             ],
             [
              0.3333333333333333,
              "#9c179e"
             ],
             [
              0.4444444444444444,
              "#bd3786"
             ],
             [
              0.5555555555555556,
              "#d8576b"
             ],
             [
              0.6666666666666666,
              "#ed7953"
             ],
             [
              0.7777777777777778,
              "#fb9f3a"
             ],
             [
              0.8888888888888888,
              "#fdca26"
             ],
             [
              1,
              "#f0f921"
             ]
            ],
            "type": "contour"
           }
          ],
          "contourcarpet": [
           {
            "colorbar": {
             "outlinewidth": 0,
             "ticks": ""
            },
            "type": "contourcarpet"
           }
          ],
          "heatmap": [
           {
            "colorbar": {
             "outlinewidth": 0,
             "ticks": ""
            },
            "colorscale": [
             [
              0,
              "#0d0887"
             ],
             [
              0.1111111111111111,
              "#46039f"
             ],
             [
              0.2222222222222222,
              "#7201a8"
             ],
             [
              0.3333333333333333,
              "#9c179e"
             ],
             [
              0.4444444444444444,
              "#bd3786"
             ],
             [
              0.5555555555555556,
              "#d8576b"
             ],
             [
              0.6666666666666666,
              "#ed7953"
             ],
             [
              0.7777777777777778,
              "#fb9f3a"
             ],
             [
              0.8888888888888888,
              "#fdca26"
             ],
             [
              1,
              "#f0f921"
             ]
            ],
            "type": "heatmap"
           }
          ],
          "heatmapgl": [
           {
            "colorbar": {
             "outlinewidth": 0,
             "ticks": ""
            },
            "colorscale": [
             [
              0,
              "#0d0887"
             ],
             [
              0.1111111111111111,
              "#46039f"
             ],
             [
              0.2222222222222222,
              "#7201a8"
             ],
             [
              0.3333333333333333,
              "#9c179e"
             ],
             [
              0.4444444444444444,
              "#bd3786"
             ],
             [
              0.5555555555555556,
              "#d8576b"
             ],
             [
              0.6666666666666666,
              "#ed7953"
             ],
             [
              0.7777777777777778,
              "#fb9f3a"
             ],
             [
              0.8888888888888888,
              "#fdca26"
             ],
             [
              1,
              "#f0f921"
             ]
            ],
            "type": "heatmapgl"
           }
          ],
          "histogram": [
           {
            "marker": {
             "pattern": {
              "fillmode": "overlay",
              "size": 10,
              "solidity": 0.2
             }
            },
            "type": "histogram"
           }
          ],
          "histogram2d": [
           {
            "colorbar": {
             "outlinewidth": 0,
             "ticks": ""
            },
            "colorscale": [
             [
              0,
              "#0d0887"
             ],
             [
              0.1111111111111111,
              "#46039f"
             ],
             [
              0.2222222222222222,
              "#7201a8"
             ],
             [
              0.3333333333333333,
              "#9c179e"
             ],
             [
              0.4444444444444444,
              "#bd3786"
             ],
             [
              0.5555555555555556,
              "#d8576b"
             ],
             [
              0.6666666666666666,
              "#ed7953"
             ],
             [
              0.7777777777777778,
              "#fb9f3a"
             ],
             [
              0.8888888888888888,
              "#fdca26"
             ],
             [
              1,
              "#f0f921"
             ]
            ],
            "type": "histogram2d"
           }
          ],
          "histogram2dcontour": [
           {
            "colorbar": {
             "outlinewidth": 0,
             "ticks": ""
            },
            "colorscale": [
             [
              0,
              "#0d0887"
             ],
             [
              0.1111111111111111,
              "#46039f"
             ],
             [
              0.2222222222222222,
              "#7201a8"
             ],
             [
              0.3333333333333333,
              "#9c179e"
             ],
             [
              0.4444444444444444,
              "#bd3786"
             ],
             [
              0.5555555555555556,
              "#d8576b"
             ],
             [
              0.6666666666666666,
              "#ed7953"
             ],
             [
              0.7777777777777778,
              "#fb9f3a"
             ],
             [
              0.8888888888888888,
              "#fdca26"
             ],
             [
              1,
              "#f0f921"
             ]
            ],
            "type": "histogram2dcontour"
           }
          ],
          "mesh3d": [
           {
            "colorbar": {
             "outlinewidth": 0,
             "ticks": ""
            },
            "type": "mesh3d"
           }
          ],
          "parcoords": [
           {
            "line": {
             "colorbar": {
              "outlinewidth": 0,
              "ticks": ""
             }
            },
            "type": "parcoords"
           }
          ],
          "pie": [
           {
            "automargin": true,
            "type": "pie"
           }
          ],
          "scatter": [
           {
            "marker": {
             "colorbar": {
              "outlinewidth": 0,
              "ticks": ""
             }
            },
            "type": "scatter"
           }
          ],
          "scatter3d": [
           {
            "line": {
             "colorbar": {
              "outlinewidth": 0,
              "ticks": ""
             }
            },
            "marker": {
             "colorbar": {
              "outlinewidth": 0,
              "ticks": ""
             }
            },
            "type": "scatter3d"
           }
          ],
          "scattercarpet": [
           {
            "marker": {
             "colorbar": {
              "outlinewidth": 0,
              "ticks": ""
             }
            },
            "type": "scattercarpet"
           }
          ],
          "scattergeo": [
           {
            "marker": {
             "colorbar": {
              "outlinewidth": 0,
              "ticks": ""
             }
            },
            "type": "scattergeo"
           }
          ],
          "scattergl": [
           {
            "marker": {
             "colorbar": {
              "outlinewidth": 0,
              "ticks": ""
             }
            },
            "type": "scattergl"
           }
          ],
          "scattermapbox": [
           {
            "marker": {
             "colorbar": {
              "outlinewidth": 0,
              "ticks": ""
             }
            },
            "type": "scattermapbox"
           }
          ],
          "scatterpolar": [
           {
            "marker": {
             "colorbar": {
              "outlinewidth": 0,
              "ticks": ""
             }
            },
            "type": "scatterpolar"
           }
          ],
          "scatterpolargl": [
           {
            "marker": {
             "colorbar": {
              "outlinewidth": 0,
              "ticks": ""
             }
            },
            "type": "scatterpolargl"
           }
          ],
          "scatterternary": [
           {
            "marker": {
             "colorbar": {
              "outlinewidth": 0,
              "ticks": ""
             }
            },
            "type": "scatterternary"
           }
          ],
          "surface": [
           {
            "colorbar": {
             "outlinewidth": 0,
             "ticks": ""
            },
            "colorscale": [
             [
              0,
              "#0d0887"
             ],
             [
              0.1111111111111111,
              "#46039f"
             ],
             [
              0.2222222222222222,
              "#7201a8"
             ],
             [
              0.3333333333333333,
              "#9c179e"
             ],
             [
              0.4444444444444444,
              "#bd3786"
             ],
             [
              0.5555555555555556,
              "#d8576b"
             ],
             [
              0.6666666666666666,
              "#ed7953"
             ],
             [
              0.7777777777777778,
              "#fb9f3a"
             ],
             [
              0.8888888888888888,
              "#fdca26"
             ],
             [
              1,
              "#f0f921"
             ]
            ],
            "type": "surface"
           }
          ],
          "table": [
           {
            "cells": {
             "fill": {
              "color": "#EBF0F8"
             },
             "line": {
              "color": "white"
             }
            },
            "header": {
             "fill": {
              "color": "#C8D4E3"
             },
             "line": {
              "color": "white"
             }
            },
            "type": "table"
           }
          ]
         },
         "layout": {
          "annotationdefaults": {
           "arrowcolor": "#2a3f5f",
           "arrowhead": 0,
           "arrowwidth": 1
          },
          "autotypenumbers": "strict",
          "coloraxis": {
           "colorbar": {
            "outlinewidth": 0,
            "ticks": ""
           }
          },
          "colorscale": {
           "diverging": [
            [
             0,
             "#8e0152"
            ],
            [
             0.1,
             "#c51b7d"
            ],
            [
             0.2,
             "#de77ae"
            ],
            [
             0.3,
             "#f1b6da"
            ],
            [
             0.4,
             "#fde0ef"
            ],
            [
             0.5,
             "#f7f7f7"
            ],
            [
             0.6,
             "#e6f5d0"
            ],
            [
             0.7,
             "#b8e186"
            ],
            [
             0.8,
             "#7fbc41"
            ],
            [
             0.9,
             "#4d9221"
            ],
            [
             1,
             "#276419"
            ]
           ],
           "sequential": [
            [
             0,
             "#0d0887"
            ],
            [
             0.1111111111111111,
             "#46039f"
            ],
            [
             0.2222222222222222,
             "#7201a8"
            ],
            [
             0.3333333333333333,
             "#9c179e"
            ],
            [
             0.4444444444444444,
             "#bd3786"
            ],
            [
             0.5555555555555556,
             "#d8576b"
            ],
            [
             0.6666666666666666,
             "#ed7953"
            ],
            [
             0.7777777777777778,
             "#fb9f3a"
            ],
            [
             0.8888888888888888,
             "#fdca26"
            ],
            [
             1,
             "#f0f921"
            ]
           ],
           "sequentialminus": [
            [
             0,
             "#0d0887"
            ],
            [
             0.1111111111111111,
             "#46039f"
            ],
            [
             0.2222222222222222,
             "#7201a8"
            ],
            [
             0.3333333333333333,
             "#9c179e"
            ],
            [
             0.4444444444444444,
             "#bd3786"
            ],
            [
             0.5555555555555556,
             "#d8576b"
            ],
            [
             0.6666666666666666,
             "#ed7953"
            ],
            [
             0.7777777777777778,
             "#fb9f3a"
            ],
            [
             0.8888888888888888,
             "#fdca26"
            ],
            [
             1,
             "#f0f921"
            ]
           ]
          },
          "colorway": [
           "#636efa",
           "#EF553B",
           "#00cc96",
           "#ab63fa",
           "#FFA15A",
           "#19d3f3",
           "#FF6692",
           "#B6E880",
           "#FF97FF",
           "#FECB52"
          ],
          "font": {
           "color": "#2a3f5f"
          },
          "geo": {
           "bgcolor": "white",
           "lakecolor": "white",
           "landcolor": "#E5ECF6",
           "showlakes": true,
           "showland": true,
           "subunitcolor": "white"
          },
          "hoverlabel": {
           "align": "left"
          },
          "hovermode": "closest",
          "mapbox": {
           "style": "light"
          },
          "paper_bgcolor": "white",
          "plot_bgcolor": "#E5ECF6",
          "polar": {
           "angularaxis": {
            "gridcolor": "white",
            "linecolor": "white",
            "ticks": ""
           },
           "bgcolor": "#E5ECF6",
           "radialaxis": {
            "gridcolor": "white",
            "linecolor": "white",
            "ticks": ""
           }
          },
          "scene": {
           "xaxis": {
            "backgroundcolor": "#E5ECF6",
            "gridcolor": "white",
            "gridwidth": 2,
            "linecolor": "white",
            "showbackground": true,
            "ticks": "",
            "zerolinecolor": "white"
           },
           "yaxis": {
            "backgroundcolor": "#E5ECF6",
            "gridcolor": "white",
            "gridwidth": 2,
            "linecolor": "white",
            "showbackground": true,
            "ticks": "",
            "zerolinecolor": "white"
           },
           "zaxis": {
            "backgroundcolor": "#E5ECF6",
            "gridcolor": "white",
            "gridwidth": 2,
            "linecolor": "white",
            "showbackground": true,
            "ticks": "",
            "zerolinecolor": "white"
           }
          },
          "shapedefaults": {
           "line": {
            "color": "#2a3f5f"
           }
          },
          "ternary": {
           "aaxis": {
            "gridcolor": "white",
            "linecolor": "white",
            "ticks": ""
           },
           "baxis": {
            "gridcolor": "white",
            "linecolor": "white",
            "ticks": ""
           },
           "bgcolor": "#E5ECF6",
           "caxis": {
            "gridcolor": "white",
            "linecolor": "white",
            "ticks": ""
           }
          },
          "title": {
           "x": 0.05
          },
          "xaxis": {
           "automargin": true,
           "gridcolor": "white",
           "linecolor": "white",
           "ticks": "",
           "title": {
            "standoff": 15
           },
           "zerolinecolor": "white",
           "zerolinewidth": 2
          },
          "yaxis": {
           "automargin": true,
           "gridcolor": "white",
           "linecolor": "white",
           "ticks": "",
           "title": {
            "standoff": 15
           },
           "zerolinecolor": "white",
           "zerolinewidth": 2
          }
         }
        },
        "title": {
         "text": "Missingness Plot (N=103904)"
        },
        "width": 800,
        "xaxis": {
         "anchor": "y",
         "domain": [
          0,
          1
         ],
         "title": {
          "text": "Feature"
         }
        },
        "yaxis": {
         "anchor": "x",
         "domain": [
          0,
          1
         ],
         "title": {
          "text": "Missing %"
         }
        }
       }
      },
      "text/html": [
       "<div>                            <div id=\"cf680abd-f82e-40b2-a2d0-e3ce5ca7ec97\" class=\"plotly-graph-div\" style=\"height:800px; width:800px;\"></div>            <script type=\"text/javascript\">                require([\"plotly\"], function(Plotly) {                    window.PLOTLYENV=window.PLOTLYENV || {};                                    if (document.getElementById(\"cf680abd-f82e-40b2-a2d0-e3ce5ca7ec97\")) {                    Plotly.newPlot(                        \"cf680abd-f82e-40b2-a2d0-e3ce5ca7ec97\",                        [{\"alignmentgroup\":\"True\",\"hovertemplate\":\"Type=Missingness<br>Feature=%{x}<br>Missing %=%{y}<extra></extra>\",\"legendgroup\":\"Missingness\",\"marker\":{\"color\":\"red\",\"opacity\":0.6,\"pattern\":{\"shape\":\"\"}},\"name\":\"Missingness\",\"offsetgroup\":\"Missingness\",\"orientation\":\"v\",\"showlegend\":true,\"textposition\":\"auto\",\"x\":[\"id\",\"Departure Delay in Minutes\",\"Cleanliness\",\"Inflight service\",\"Checkin service\",\"Baggage handling\",\"Leg room service\",\"On-board service\",\"Inflight entertainment\",\"Seat comfort\",\"Online boarding\",\"Food and drink\",\"Gate location\",\"Ease of Online booking\",\"Departure/Arrival time convenient\",\"Inflight wifi service\",\"Flight Distance\",\"Class\",\"Type of Travel\",\"Age\",\"Customer Type\",\"Gender\",\"satisfaction\",\"Arrival Delay in Minutes\"],\"xaxis\":\"x\",\"y\":[0.0,0.0,0.0,0.0,0.0,0.0,0.0,0.0,0.0,0.0,0.0,0.0,0.0,0.0,0.0,0.0,0.0,0.0,0.0,0.0,0.0,0.0,0.0,0.2984],\"yaxis\":\"y\",\"type\":\"bar\"},{\"alignmentgroup\":\"True\",\"hovertemplate\":\"Type=Completeness<br>Feature=%{x}<br>Missing %=%{y}<extra></extra>\",\"legendgroup\":\"Completeness\",\"marker\":{\"color\":\"#808080\",\"opacity\":0.6,\"pattern\":{\"shape\":\"\"}},\"name\":\"Completeness\",\"offsetgroup\":\"Completeness\",\"orientation\":\"v\",\"showlegend\":true,\"textposition\":\"auto\",\"x\":[\"id\",\"Gender\",\"Customer Type\",\"Age\",\"Type of Travel\",\"Class\",\"Flight Distance\",\"Inflight wifi service\",\"Departure/Arrival time convenient\",\"Ease of Online booking\",\"Gate location\",\"Food and drink\",\"Online boarding\",\"Seat comfort\",\"Inflight entertainment\",\"On-board service\",\"Leg room service\",\"Baggage handling\",\"Checkin service\",\"Inflight service\",\"Cleanliness\",\"Departure Delay in Minutes\",\"Arrival Delay in Minutes\",\"satisfaction\"],\"xaxis\":\"x\",\"y\":[100.0,100.0,100.0,100.0,100.0,100.0,100.0,100.0,100.0,100.0,100.0,100.0,100.0,100.0,100.0,100.0,100.0,100.0,100.0,100.0,100.0,100.0,99.0,100.0],\"yaxis\":\"y\",\"type\":\"bar\"}],                        {\"template\":{\"data\":{\"bar\":[{\"error_x\":{\"color\":\"#2a3f5f\"},\"error_y\":{\"color\":\"#2a3f5f\"},\"marker\":{\"line\":{\"color\":\"#E5ECF6\",\"width\":0.5},\"pattern\":{\"fillmode\":\"overlay\",\"size\":10,\"solidity\":0.2}},\"type\":\"bar\"}],\"barpolar\":[{\"marker\":{\"line\":{\"color\":\"#E5ECF6\",\"width\":0.5},\"pattern\":{\"fillmode\":\"overlay\",\"size\":10,\"solidity\":0.2}},\"type\":\"barpolar\"}],\"carpet\":[{\"aaxis\":{\"endlinecolor\":\"#2a3f5f\",\"gridcolor\":\"white\",\"linecolor\":\"white\",\"minorgridcolor\":\"white\",\"startlinecolor\":\"#2a3f5f\"},\"baxis\":{\"endlinecolor\":\"#2a3f5f\",\"gridcolor\":\"white\",\"linecolor\":\"white\",\"minorgridcolor\":\"white\",\"startlinecolor\":\"#2a3f5f\"},\"type\":\"carpet\"}],\"choropleth\":[{\"colorbar\":{\"outlinewidth\":0,\"ticks\":\"\"},\"type\":\"choropleth\"}],\"contour\":[{\"colorbar\":{\"outlinewidth\":0,\"ticks\":\"\"},\"colorscale\":[[0.0,\"#0d0887\"],[0.1111111111111111,\"#46039f\"],[0.2222222222222222,\"#7201a8\"],[0.3333333333333333,\"#9c179e\"],[0.4444444444444444,\"#bd3786\"],[0.5555555555555556,\"#d8576b\"],[0.6666666666666666,\"#ed7953\"],[0.7777777777777778,\"#fb9f3a\"],[0.8888888888888888,\"#fdca26\"],[1.0,\"#f0f921\"]],\"type\":\"contour\"}],\"contourcarpet\":[{\"colorbar\":{\"outlinewidth\":0,\"ticks\":\"\"},\"type\":\"contourcarpet\"}],\"heatmap\":[{\"colorbar\":{\"outlinewidth\":0,\"ticks\":\"\"},\"colorscale\":[[0.0,\"#0d0887\"],[0.1111111111111111,\"#46039f\"],[0.2222222222222222,\"#7201a8\"],[0.3333333333333333,\"#9c179e\"],[0.4444444444444444,\"#bd3786\"],[0.5555555555555556,\"#d8576b\"],[0.6666666666666666,\"#ed7953\"],[0.7777777777777778,\"#fb9f3a\"],[0.8888888888888888,\"#fdca26\"],[1.0,\"#f0f921\"]],\"type\":\"heatmap\"}],\"heatmapgl\":[{\"colorbar\":{\"outlinewidth\":0,\"ticks\":\"\"},\"colorscale\":[[0.0,\"#0d0887\"],[0.1111111111111111,\"#46039f\"],[0.2222222222222222,\"#7201a8\"],[0.3333333333333333,\"#9c179e\"],[0.4444444444444444,\"#bd3786\"],[0.5555555555555556,\"#d8576b\"],[0.6666666666666666,\"#ed7953\"],[0.7777777777777778,\"#fb9f3a\"],[0.8888888888888888,\"#fdca26\"],[1.0,\"#f0f921\"]],\"type\":\"heatmapgl\"}],\"histogram\":[{\"marker\":{\"pattern\":{\"fillmode\":\"overlay\",\"size\":10,\"solidity\":0.2}},\"type\":\"histogram\"}],\"histogram2d\":[{\"colorbar\":{\"outlinewidth\":0,\"ticks\":\"\"},\"colorscale\":[[0.0,\"#0d0887\"],[0.1111111111111111,\"#46039f\"],[0.2222222222222222,\"#7201a8\"],[0.3333333333333333,\"#9c179e\"],[0.4444444444444444,\"#bd3786\"],[0.5555555555555556,\"#d8576b\"],[0.6666666666666666,\"#ed7953\"],[0.7777777777777778,\"#fb9f3a\"],[0.8888888888888888,\"#fdca26\"],[1.0,\"#f0f921\"]],\"type\":\"histogram2d\"}],\"histogram2dcontour\":[{\"colorbar\":{\"outlinewidth\":0,\"ticks\":\"\"},\"colorscale\":[[0.0,\"#0d0887\"],[0.1111111111111111,\"#46039f\"],[0.2222222222222222,\"#7201a8\"],[0.3333333333333333,\"#9c179e\"],[0.4444444444444444,\"#bd3786\"],[0.5555555555555556,\"#d8576b\"],[0.6666666666666666,\"#ed7953\"],[0.7777777777777778,\"#fb9f3a\"],[0.8888888888888888,\"#fdca26\"],[1.0,\"#f0f921\"]],\"type\":\"histogram2dcontour\"}],\"mesh3d\":[{\"colorbar\":{\"outlinewidth\":0,\"ticks\":\"\"},\"type\":\"mesh3d\"}],\"parcoords\":[{\"line\":{\"colorbar\":{\"outlinewidth\":0,\"ticks\":\"\"}},\"type\":\"parcoords\"}],\"pie\":[{\"automargin\":true,\"type\":\"pie\"}],\"scatter\":[{\"marker\":{\"colorbar\":{\"outlinewidth\":0,\"ticks\":\"\"}},\"type\":\"scatter\"}],\"scatter3d\":[{\"line\":{\"colorbar\":{\"outlinewidth\":0,\"ticks\":\"\"}},\"marker\":{\"colorbar\":{\"outlinewidth\":0,\"ticks\":\"\"}},\"type\":\"scatter3d\"}],\"scattercarpet\":[{\"marker\":{\"colorbar\":{\"outlinewidth\":0,\"ticks\":\"\"}},\"type\":\"scattercarpet\"}],\"scattergeo\":[{\"marker\":{\"colorbar\":{\"outlinewidth\":0,\"ticks\":\"\"}},\"type\":\"scattergeo\"}],\"scattergl\":[{\"marker\":{\"colorbar\":{\"outlinewidth\":0,\"ticks\":\"\"}},\"type\":\"scattergl\"}],\"scattermapbox\":[{\"marker\":{\"colorbar\":{\"outlinewidth\":0,\"ticks\":\"\"}},\"type\":\"scattermapbox\"}],\"scatterpolar\":[{\"marker\":{\"colorbar\":{\"outlinewidth\":0,\"ticks\":\"\"}},\"type\":\"scatterpolar\"}],\"scatterpolargl\":[{\"marker\":{\"colorbar\":{\"outlinewidth\":0,\"ticks\":\"\"}},\"type\":\"scatterpolargl\"}],\"scatterternary\":[{\"marker\":{\"colorbar\":{\"outlinewidth\":0,\"ticks\":\"\"}},\"type\":\"scatterternary\"}],\"surface\":[{\"colorbar\":{\"outlinewidth\":0,\"ticks\":\"\"},\"colorscale\":[[0.0,\"#0d0887\"],[0.1111111111111111,\"#46039f\"],[0.2222222222222222,\"#7201a8\"],[0.3333333333333333,\"#9c179e\"],[0.4444444444444444,\"#bd3786\"],[0.5555555555555556,\"#d8576b\"],[0.6666666666666666,\"#ed7953\"],[0.7777777777777778,\"#fb9f3a\"],[0.8888888888888888,\"#fdca26\"],[1.0,\"#f0f921\"]],\"type\":\"surface\"}],\"table\":[{\"cells\":{\"fill\":{\"color\":\"#EBF0F8\"},\"line\":{\"color\":\"white\"}},\"header\":{\"fill\":{\"color\":\"#C8D4E3\"},\"line\":{\"color\":\"white\"}},\"type\":\"table\"}]},\"layout\":{\"annotationdefaults\":{\"arrowcolor\":\"#2a3f5f\",\"arrowhead\":0,\"arrowwidth\":1},\"autotypenumbers\":\"strict\",\"coloraxis\":{\"colorbar\":{\"outlinewidth\":0,\"ticks\":\"\"}},\"colorscale\":{\"diverging\":[[0,\"#8e0152\"],[0.1,\"#c51b7d\"],[0.2,\"#de77ae\"],[0.3,\"#f1b6da\"],[0.4,\"#fde0ef\"],[0.5,\"#f7f7f7\"],[0.6,\"#e6f5d0\"],[0.7,\"#b8e186\"],[0.8,\"#7fbc41\"],[0.9,\"#4d9221\"],[1,\"#276419\"]],\"sequential\":[[0.0,\"#0d0887\"],[0.1111111111111111,\"#46039f\"],[0.2222222222222222,\"#7201a8\"],[0.3333333333333333,\"#9c179e\"],[0.4444444444444444,\"#bd3786\"],[0.5555555555555556,\"#d8576b\"],[0.6666666666666666,\"#ed7953\"],[0.7777777777777778,\"#fb9f3a\"],[0.8888888888888888,\"#fdca26\"],[1.0,\"#f0f921\"]],\"sequentialminus\":[[0.0,\"#0d0887\"],[0.1111111111111111,\"#46039f\"],[0.2222222222222222,\"#7201a8\"],[0.3333333333333333,\"#9c179e\"],[0.4444444444444444,\"#bd3786\"],[0.5555555555555556,\"#d8576b\"],[0.6666666666666666,\"#ed7953\"],[0.7777777777777778,\"#fb9f3a\"],[0.8888888888888888,\"#fdca26\"],[1.0,\"#f0f921\"]]},\"colorway\":[\"#636efa\",\"#EF553B\",\"#00cc96\",\"#ab63fa\",\"#FFA15A\",\"#19d3f3\",\"#FF6692\",\"#B6E880\",\"#FF97FF\",\"#FECB52\"],\"font\":{\"color\":\"#2a3f5f\"},\"geo\":{\"bgcolor\":\"white\",\"lakecolor\":\"white\",\"landcolor\":\"#E5ECF6\",\"showlakes\":true,\"showland\":true,\"subunitcolor\":\"white\"},\"hoverlabel\":{\"align\":\"left\"},\"hovermode\":\"closest\",\"mapbox\":{\"style\":\"light\"},\"paper_bgcolor\":\"white\",\"plot_bgcolor\":\"#E5ECF6\",\"polar\":{\"angularaxis\":{\"gridcolor\":\"white\",\"linecolor\":\"white\",\"ticks\":\"\"},\"bgcolor\":\"#E5ECF6\",\"radialaxis\":{\"gridcolor\":\"white\",\"linecolor\":\"white\",\"ticks\":\"\"}},\"scene\":{\"xaxis\":{\"backgroundcolor\":\"#E5ECF6\",\"gridcolor\":\"white\",\"gridwidth\":2,\"linecolor\":\"white\",\"showbackground\":true,\"ticks\":\"\",\"zerolinecolor\":\"white\"},\"yaxis\":{\"backgroundcolor\":\"#E5ECF6\",\"gridcolor\":\"white\",\"gridwidth\":2,\"linecolor\":\"white\",\"showbackground\":true,\"ticks\":\"\",\"zerolinecolor\":\"white\"},\"zaxis\":{\"backgroundcolor\":\"#E5ECF6\",\"gridcolor\":\"white\",\"gridwidth\":2,\"linecolor\":\"white\",\"showbackground\":true,\"ticks\":\"\",\"zerolinecolor\":\"white\"}},\"shapedefaults\":{\"line\":{\"color\":\"#2a3f5f\"}},\"ternary\":{\"aaxis\":{\"gridcolor\":\"white\",\"linecolor\":\"white\",\"ticks\":\"\"},\"baxis\":{\"gridcolor\":\"white\",\"linecolor\":\"white\",\"ticks\":\"\"},\"bgcolor\":\"#E5ECF6\",\"caxis\":{\"gridcolor\":\"white\",\"linecolor\":\"white\",\"ticks\":\"\"}},\"title\":{\"x\":0.05},\"xaxis\":{\"automargin\":true,\"gridcolor\":\"white\",\"linecolor\":\"white\",\"ticks\":\"\",\"title\":{\"standoff\":15},\"zerolinecolor\":\"white\",\"zerolinewidth\":2},\"yaxis\":{\"automargin\":true,\"gridcolor\":\"white\",\"linecolor\":\"white\",\"ticks\":\"\",\"title\":{\"standoff\":15},\"zerolinecolor\":\"white\",\"zerolinewidth\":2}}},\"xaxis\":{\"anchor\":\"y\",\"domain\":[0.0,1.0],\"title\":{\"text\":\"Feature\"}},\"yaxis\":{\"anchor\":\"x\",\"domain\":[0.0,1.0],\"title\":{\"text\":\"Missing %\"}},\"legend\":{\"title\":{\"text\":\"Type\"},\"tracegroupgap\":0},\"title\":{\"text\":\"Missingness Plot (N=103904)\"},\"barmode\":\"relative\",\"height\":800,\"width\":800},                        {\"responsive\": true}                    ).then(function(){\n",
       "                            \n",
       "var gd = document.getElementById('cf680abd-f82e-40b2-a2d0-e3ce5ca7ec97');\n",
       "var x = new MutationObserver(function (mutations, observer) {{\n",
       "        var display = window.getComputedStyle(gd).display;\n",
       "        if (!display || display === 'none') {{\n",
       "            console.log([gd, 'removed!']);\n",
       "            Plotly.purge(gd);\n",
       "            observer.disconnect();\n",
       "        }}\n",
       "}});\n",
       "\n",
       "// Listen for the removal of the full notebook cells\n",
       "var notebookContainer = gd.closest('#notebook-container');\n",
       "if (notebookContainer) {{\n",
       "    x.observe(notebookContainer, {childList: true});\n",
       "}}\n",
       "\n",
       "// Listen for the clearing of the current output cell\n",
       "var outputEl = gd.closest('.output');\n",
       "if (outputEl) {{\n",
       "    x.observe(outputEl, {childList: true});\n",
       "}}\n",
       "\n",
       "                        })                };                });            </script>        </div>"
      ]
     },
     "metadata": {},
     "output_type": "display_data"
    },
    {
     "name": "stdout",
     "output_type": "stream",
     "text": [
      "Missing 310 values if the 'Arrival Delay in Minutes'column; approximately 0.29%.\n"
     ]
    }
   ],
   "source": [
    "# Any missing values in the dataset\n",
    "def plot_missingness(df: pd.DataFrame=df) -> None:\n",
    "    nan_df = pd.DataFrame(df.isna().sum()).reset_index()\n",
    "    nan_df.columns  = ['Column', 'NaN_Count']\n",
    "    nan_df['NaN_Count'] = nan_df['NaN_Count'].astype('int')\n",
    "    nan_df['NaN_%'] = round(nan_df['NaN_Count']/df.shape[0] * 100,4)\n",
    "    nan_df['Type']  = 'Missingness'\n",
    "    nan_df.sort_values('NaN_%', inplace=True)\n",
    "\n",
    "    # Add completeness\n",
    "    for i in range(nan_df.shape[0]):\n",
    "        complete_df = pd.DataFrame([nan_df.loc[i,'Column'],df.shape[0] - nan_df.loc[i,'NaN_Count'],100 - nan_df.loc[i,'NaN_%'], 'Completeness']).T\n",
    "        complete_df.columns  = ['Column','NaN_Count','NaN_%','Type']\n",
    "        complete_df['NaN_%'] = complete_df['NaN_%'].astype('int')\n",
    "        complete_df['NaN_Count'] = complete_df['NaN_Count'].astype('int')\n",
    "        nan_df = pd.concat([nan_df,complete_df], sort=True)\n",
    "            \n",
    "    nan_df = nan_df.rename(columns={\"Column\": \"Feature\", \"NaN_%\": \"Missing %\"})\n",
    "\n",
    "    # Missingness Plot\n",
    "    fig = px.bar(nan_df,\n",
    "                 x='Feature',\n",
    "                 y='Missing %',\n",
    "                 title=f\"Missingness Plot (N={df.shape[0]})\",\n",
    "                 color='Type',\n",
    "                 opacity = 0.6,\n",
    "                 color_discrete_sequence=['red','#808080'],\n",
    "                 width=800,\n",
    "                 height=800)\n",
    "    fig.show()\n",
    "\n",
    "plot_missingness(df)\n",
    "\n",
    "print(\"Missing 310 values if the 'Arrival Delay in Minutes'column; approximately 0.29%.\")"
   ]
  },
  {
   "cell_type": "markdown",
   "id": "b0f1d719",
   "metadata": {},
   "source": [
    "#### Remove unwanted columns\n",
    "ID was removed from the dataset as it was used as a unique identified for each passenger"
   ]
  },
  {
   "cell_type": "code",
   "execution_count": 89,
   "id": "305ac5b1",
   "metadata": {},
   "outputs": [
    {
     "data": {
      "text/plain": [
       "Gender                               0\n",
       "Customer Type                        0\n",
       "Age                                  0\n",
       "Type of Travel                       0\n",
       "Class                                0\n",
       "Flight Distance                      0\n",
       "Inflight wifi service                0\n",
       "Departure/Arrival time convenient    0\n",
       "Ease of Online booking               0\n",
       "Gate location                        0\n",
       "Food and drink                       0\n",
       "Online boarding                      0\n",
       "Seat comfort                         0\n",
       "Inflight entertainment               0\n",
       "On-board service                     0\n",
       "Leg room service                     0\n",
       "Baggage handling                     0\n",
       "Checkin service                      0\n",
       "Inflight service                     0\n",
       "Cleanliness                          0\n",
       "Departure Delay in Minutes           0\n",
       "Arrival Delay in Minutes             0\n",
       "satisfaction                         0\n",
       "GenderNumeric                        0\n",
       "CustomerTypeNumeric                  0\n",
       "TypeofTravelNumeric                  0\n",
       "ClassNumeric                         0\n",
       "dtype: int64"
      ]
     },
     "execution_count": 89,
     "metadata": {},
     "output_type": "execute_result"
    }
   ],
   "source": [
    "df[\"GenderNumeric\"] = (df[\"Gender\"]==\"Male\").astype(int)\n",
    "df[\"CustomerTypeNumeric\"] = (df[\"Customer Type\"]==\"Loyal Customer\").astype(int)\n",
    "df[\"TypeofTravelNumeric\"] = (df[\"Type of Travel\"]==\"Personal Travel\").astype(int)\n",
    "df[\"ClassNumeric\"] = df[\"Class\"]\n",
    "df[\"ClassNumeric\"].replace(['Eco', 'Eco Plus', 'Business'], [0, 1, 2], inplace=True)\n",
    "\n",
    "df[\"Arrival Delay in Minutes\"]= df[\"Arrival Delay in Minutes\"].fillna(0)\n",
    "\n",
    "\n",
    "dfclean = df.drop(columns=['id'])\n",
    "\n",
    "dfclean.isnull().sum() #double check on the missing values - 'arrival delay in minutes =310'"
   ]
  },
  {
   "cell_type": "code",
   "execution_count": 90,
   "id": "fc62507c",
   "metadata": {},
   "outputs": [],
   "source": [
    "#Fill in missing values\n",
    "dfclean[\"Arrival Delay in Minutes\"].fillna(dfclean[\"Arrival Delay in Minutes\"].median(), inplace=True)"
   ]
  },
  {
   "cell_type": "code",
   "execution_count": 91,
   "id": "3c1df33c",
   "metadata": {},
   "outputs": [
    {
     "data": {
      "text/html": [
       "<div>\n",
       "<style scoped>\n",
       "    .dataframe tbody tr th:only-of-type {\n",
       "        vertical-align: middle;\n",
       "    }\n",
       "\n",
       "    .dataframe tbody tr th {\n",
       "        vertical-align: top;\n",
       "    }\n",
       "\n",
       "    .dataframe thead th {\n",
       "        text-align: right;\n",
       "    }\n",
       "</style>\n",
       "<table border=\"1\" class=\"dataframe\">\n",
       "  <thead>\n",
       "    <tr style=\"text-align: right;\">\n",
       "      <th></th>\n",
       "      <th>count</th>\n",
       "      <th>mean</th>\n",
       "      <th>std</th>\n",
       "      <th>min</th>\n",
       "      <th>25%</th>\n",
       "      <th>50%</th>\n",
       "      <th>75%</th>\n",
       "      <th>max</th>\n",
       "    </tr>\n",
       "  </thead>\n",
       "  <tbody>\n",
       "    <tr>\n",
       "      <th>Age</th>\n",
       "      <td>103904.0</td>\n",
       "      <td>39.379706</td>\n",
       "      <td>15.114964</td>\n",
       "      <td>7.0</td>\n",
       "      <td>27.0</td>\n",
       "      <td>40.0</td>\n",
       "      <td>51.0</td>\n",
       "      <td>85.0</td>\n",
       "    </tr>\n",
       "    <tr>\n",
       "      <th>Flight Distance</th>\n",
       "      <td>103904.0</td>\n",
       "      <td>1189.448375</td>\n",
       "      <td>997.147281</td>\n",
       "      <td>31.0</td>\n",
       "      <td>414.0</td>\n",
       "      <td>843.0</td>\n",
       "      <td>1743.0</td>\n",
       "      <td>4983.0</td>\n",
       "    </tr>\n",
       "    <tr>\n",
       "      <th>Inflight wifi service</th>\n",
       "      <td>103904.0</td>\n",
       "      <td>2.729683</td>\n",
       "      <td>1.327829</td>\n",
       "      <td>0.0</td>\n",
       "      <td>2.0</td>\n",
       "      <td>3.0</td>\n",
       "      <td>4.0</td>\n",
       "      <td>5.0</td>\n",
       "    </tr>\n",
       "    <tr>\n",
       "      <th>Departure/Arrival time convenient</th>\n",
       "      <td>103904.0</td>\n",
       "      <td>3.060296</td>\n",
       "      <td>1.525075</td>\n",
       "      <td>0.0</td>\n",
       "      <td>2.0</td>\n",
       "      <td>3.0</td>\n",
       "      <td>4.0</td>\n",
       "      <td>5.0</td>\n",
       "    </tr>\n",
       "    <tr>\n",
       "      <th>Ease of Online booking</th>\n",
       "      <td>103904.0</td>\n",
       "      <td>2.756901</td>\n",
       "      <td>1.398929</td>\n",
       "      <td>0.0</td>\n",
       "      <td>2.0</td>\n",
       "      <td>3.0</td>\n",
       "      <td>4.0</td>\n",
       "      <td>5.0</td>\n",
       "    </tr>\n",
       "    <tr>\n",
       "      <th>Gate location</th>\n",
       "      <td>103904.0</td>\n",
       "      <td>2.976883</td>\n",
       "      <td>1.277621</td>\n",
       "      <td>0.0</td>\n",
       "      <td>2.0</td>\n",
       "      <td>3.0</td>\n",
       "      <td>4.0</td>\n",
       "      <td>5.0</td>\n",
       "    </tr>\n",
       "    <tr>\n",
       "      <th>Food and drink</th>\n",
       "      <td>103904.0</td>\n",
       "      <td>3.202129</td>\n",
       "      <td>1.329533</td>\n",
       "      <td>0.0</td>\n",
       "      <td>2.0</td>\n",
       "      <td>3.0</td>\n",
       "      <td>4.0</td>\n",
       "      <td>5.0</td>\n",
       "    </tr>\n",
       "    <tr>\n",
       "      <th>Online boarding</th>\n",
       "      <td>103904.0</td>\n",
       "      <td>3.250375</td>\n",
       "      <td>1.349509</td>\n",
       "      <td>0.0</td>\n",
       "      <td>2.0</td>\n",
       "      <td>3.0</td>\n",
       "      <td>4.0</td>\n",
       "      <td>5.0</td>\n",
       "    </tr>\n",
       "    <tr>\n",
       "      <th>Seat comfort</th>\n",
       "      <td>103904.0</td>\n",
       "      <td>3.439396</td>\n",
       "      <td>1.319088</td>\n",
       "      <td>0.0</td>\n",
       "      <td>2.0</td>\n",
       "      <td>4.0</td>\n",
       "      <td>5.0</td>\n",
       "      <td>5.0</td>\n",
       "    </tr>\n",
       "    <tr>\n",
       "      <th>Inflight entertainment</th>\n",
       "      <td>103904.0</td>\n",
       "      <td>3.358158</td>\n",
       "      <td>1.332991</td>\n",
       "      <td>0.0</td>\n",
       "      <td>2.0</td>\n",
       "      <td>4.0</td>\n",
       "      <td>4.0</td>\n",
       "      <td>5.0</td>\n",
       "    </tr>\n",
       "    <tr>\n",
       "      <th>On-board service</th>\n",
       "      <td>103904.0</td>\n",
       "      <td>3.382363</td>\n",
       "      <td>1.288354</td>\n",
       "      <td>0.0</td>\n",
       "      <td>2.0</td>\n",
       "      <td>4.0</td>\n",
       "      <td>4.0</td>\n",
       "      <td>5.0</td>\n",
       "    </tr>\n",
       "    <tr>\n",
       "      <th>Leg room service</th>\n",
       "      <td>103904.0</td>\n",
       "      <td>3.351055</td>\n",
       "      <td>1.315605</td>\n",
       "      <td>0.0</td>\n",
       "      <td>2.0</td>\n",
       "      <td>4.0</td>\n",
       "      <td>4.0</td>\n",
       "      <td>5.0</td>\n",
       "    </tr>\n",
       "    <tr>\n",
       "      <th>Baggage handling</th>\n",
       "      <td>103904.0</td>\n",
       "      <td>3.631833</td>\n",
       "      <td>1.180903</td>\n",
       "      <td>1.0</td>\n",
       "      <td>3.0</td>\n",
       "      <td>4.0</td>\n",
       "      <td>5.0</td>\n",
       "      <td>5.0</td>\n",
       "    </tr>\n",
       "    <tr>\n",
       "      <th>Checkin service</th>\n",
       "      <td>103904.0</td>\n",
       "      <td>3.304290</td>\n",
       "      <td>1.265396</td>\n",
       "      <td>0.0</td>\n",
       "      <td>3.0</td>\n",
       "      <td>3.0</td>\n",
       "      <td>4.0</td>\n",
       "      <td>5.0</td>\n",
       "    </tr>\n",
       "    <tr>\n",
       "      <th>Inflight service</th>\n",
       "      <td>103904.0</td>\n",
       "      <td>3.640428</td>\n",
       "      <td>1.175663</td>\n",
       "      <td>0.0</td>\n",
       "      <td>3.0</td>\n",
       "      <td>4.0</td>\n",
       "      <td>5.0</td>\n",
       "      <td>5.0</td>\n",
       "    </tr>\n",
       "    <tr>\n",
       "      <th>Cleanliness</th>\n",
       "      <td>103904.0</td>\n",
       "      <td>3.286351</td>\n",
       "      <td>1.312273</td>\n",
       "      <td>0.0</td>\n",
       "      <td>2.0</td>\n",
       "      <td>3.0</td>\n",
       "      <td>4.0</td>\n",
       "      <td>5.0</td>\n",
       "    </tr>\n",
       "    <tr>\n",
       "      <th>Departure Delay in Minutes</th>\n",
       "      <td>103904.0</td>\n",
       "      <td>14.815618</td>\n",
       "      <td>38.230901</td>\n",
       "      <td>0.0</td>\n",
       "      <td>0.0</td>\n",
       "      <td>0.0</td>\n",
       "      <td>12.0</td>\n",
       "      <td>1592.0</td>\n",
       "    </tr>\n",
       "    <tr>\n",
       "      <th>Arrival Delay in Minutes</th>\n",
       "      <td>103904.0</td>\n",
       "      <td>15.133392</td>\n",
       "      <td>38.649776</td>\n",
       "      <td>0.0</td>\n",
       "      <td>0.0</td>\n",
       "      <td>0.0</td>\n",
       "      <td>13.0</td>\n",
       "      <td>1584.0</td>\n",
       "    </tr>\n",
       "    <tr>\n",
       "      <th>GenderNumeric</th>\n",
       "      <td>103904.0</td>\n",
       "      <td>0.492541</td>\n",
       "      <td>0.499947</td>\n",
       "      <td>0.0</td>\n",
       "      <td>0.0</td>\n",
       "      <td>0.0</td>\n",
       "      <td>1.0</td>\n",
       "      <td>1.0</td>\n",
       "    </tr>\n",
       "    <tr>\n",
       "      <th>CustomerTypeNumeric</th>\n",
       "      <td>103904.0</td>\n",
       "      <td>0.817322</td>\n",
       "      <td>0.386404</td>\n",
       "      <td>0.0</td>\n",
       "      <td>1.0</td>\n",
       "      <td>1.0</td>\n",
       "      <td>1.0</td>\n",
       "      <td>1.0</td>\n",
       "    </tr>\n",
       "    <tr>\n",
       "      <th>TypeofTravelNumeric</th>\n",
       "      <td>103904.0</td>\n",
       "      <td>0.310373</td>\n",
       "      <td>0.462649</td>\n",
       "      <td>0.0</td>\n",
       "      <td>0.0</td>\n",
       "      <td>0.0</td>\n",
       "      <td>1.0</td>\n",
       "      <td>1.0</td>\n",
       "    </tr>\n",
       "    <tr>\n",
       "      <th>ClassNumeric</th>\n",
       "      <td>103904.0</td>\n",
       "      <td>1.028103</td>\n",
       "      <td>0.962858</td>\n",
       "      <td>0.0</td>\n",
       "      <td>0.0</td>\n",
       "      <td>1.0</td>\n",
       "      <td>2.0</td>\n",
       "      <td>2.0</td>\n",
       "    </tr>\n",
       "  </tbody>\n",
       "</table>\n",
       "</div>"
      ],
      "text/plain": [
       "                                      count         mean         std   min  \\\n",
       "Age                                103904.0    39.379706   15.114964   7.0   \n",
       "Flight Distance                    103904.0  1189.448375  997.147281  31.0   \n",
       "Inflight wifi service              103904.0     2.729683    1.327829   0.0   \n",
       "Departure/Arrival time convenient  103904.0     3.060296    1.525075   0.0   \n",
       "Ease of Online booking             103904.0     2.756901    1.398929   0.0   \n",
       "Gate location                      103904.0     2.976883    1.277621   0.0   \n",
       "Food and drink                     103904.0     3.202129    1.329533   0.0   \n",
       "Online boarding                    103904.0     3.250375    1.349509   0.0   \n",
       "Seat comfort                       103904.0     3.439396    1.319088   0.0   \n",
       "Inflight entertainment             103904.0     3.358158    1.332991   0.0   \n",
       "On-board service                   103904.0     3.382363    1.288354   0.0   \n",
       "Leg room service                   103904.0     3.351055    1.315605   0.0   \n",
       "Baggage handling                   103904.0     3.631833    1.180903   1.0   \n",
       "Checkin service                    103904.0     3.304290    1.265396   0.0   \n",
       "Inflight service                   103904.0     3.640428    1.175663   0.0   \n",
       "Cleanliness                        103904.0     3.286351    1.312273   0.0   \n",
       "Departure Delay in Minutes         103904.0    14.815618   38.230901   0.0   \n",
       "Arrival Delay in Minutes           103904.0    15.133392   38.649776   0.0   \n",
       "GenderNumeric                      103904.0     0.492541    0.499947   0.0   \n",
       "CustomerTypeNumeric                103904.0     0.817322    0.386404   0.0   \n",
       "TypeofTravelNumeric                103904.0     0.310373    0.462649   0.0   \n",
       "ClassNumeric                       103904.0     1.028103    0.962858   0.0   \n",
       "\n",
       "                                     25%    50%     75%     max  \n",
       "Age                                 27.0   40.0    51.0    85.0  \n",
       "Flight Distance                    414.0  843.0  1743.0  4983.0  \n",
       "Inflight wifi service                2.0    3.0     4.0     5.0  \n",
       "Departure/Arrival time convenient    2.0    3.0     4.0     5.0  \n",
       "Ease of Online booking               2.0    3.0     4.0     5.0  \n",
       "Gate location                        2.0    3.0     4.0     5.0  \n",
       "Food and drink                       2.0    3.0     4.0     5.0  \n",
       "Online boarding                      2.0    3.0     4.0     5.0  \n",
       "Seat comfort                         2.0    4.0     5.0     5.0  \n",
       "Inflight entertainment               2.0    4.0     4.0     5.0  \n",
       "On-board service                     2.0    4.0     4.0     5.0  \n",
       "Leg room service                     2.0    4.0     4.0     5.0  \n",
       "Baggage handling                     3.0    4.0     5.0     5.0  \n",
       "Checkin service                      3.0    3.0     4.0     5.0  \n",
       "Inflight service                     3.0    4.0     5.0     5.0  \n",
       "Cleanliness                          2.0    3.0     4.0     5.0  \n",
       "Departure Delay in Minutes           0.0    0.0    12.0  1592.0  \n",
       "Arrival Delay in Minutes             0.0    0.0    13.0  1584.0  \n",
       "GenderNumeric                        0.0    0.0     1.0     1.0  \n",
       "CustomerTypeNumeric                  1.0    1.0     1.0     1.0  \n",
       "TypeofTravelNumeric                  0.0    0.0     1.0     1.0  \n",
       "ClassNumeric                         0.0    1.0     2.0     2.0  "
      ]
     },
     "execution_count": 91,
     "metadata": {},
     "output_type": "execute_result"
    }
   ],
   "source": [
    "dfclean.describe().T"
   ]
  },
  {
   "cell_type": "code",
   "execution_count": 92,
   "id": "68cc5716",
   "metadata": {},
   "outputs": [
    {
     "data": {
      "text/html": [
       "<div>\n",
       "<style scoped>\n",
       "    .dataframe tbody tr th:only-of-type {\n",
       "        vertical-align: middle;\n",
       "    }\n",
       "\n",
       "    .dataframe tbody tr th {\n",
       "        vertical-align: top;\n",
       "    }\n",
       "\n",
       "    .dataframe thead th {\n",
       "        text-align: right;\n",
       "    }\n",
       "</style>\n",
       "<table border=\"1\" class=\"dataframe\">\n",
       "  <thead>\n",
       "    <tr style=\"text-align: right;\">\n",
       "      <th></th>\n",
       "      <th>Age</th>\n",
       "      <th>Flight Distance</th>\n",
       "      <th>Inflight wifi service</th>\n",
       "      <th>Departure/Arrival time convenient</th>\n",
       "      <th>Ease of Online booking</th>\n",
       "      <th>Gate location</th>\n",
       "      <th>Food and drink</th>\n",
       "      <th>Online boarding</th>\n",
       "      <th>Seat comfort</th>\n",
       "      <th>Inflight entertainment</th>\n",
       "      <th>...</th>\n",
       "      <th>Baggage handling</th>\n",
       "      <th>Checkin service</th>\n",
       "      <th>Inflight service</th>\n",
       "      <th>Cleanliness</th>\n",
       "      <th>Departure Delay in Minutes</th>\n",
       "      <th>Arrival Delay in Minutes</th>\n",
       "      <th>GenderNumeric</th>\n",
       "      <th>CustomerTypeNumeric</th>\n",
       "      <th>TypeofTravelNumeric</th>\n",
       "      <th>ClassNumeric</th>\n",
       "    </tr>\n",
       "  </thead>\n",
       "  <tbody>\n",
       "    <tr>\n",
       "      <th>Age</th>\n",
       "      <td>1.000000</td>\n",
       "      <td>0.099461</td>\n",
       "      <td>0.017859</td>\n",
       "      <td>0.038125</td>\n",
       "      <td>0.024842</td>\n",
       "      <td>-0.001330</td>\n",
       "      <td>0.023000</td>\n",
       "      <td>0.208939</td>\n",
       "      <td>0.160277</td>\n",
       "      <td>0.076444</td>\n",
       "      <td>...</td>\n",
       "      <td>-0.047529</td>\n",
       "      <td>0.035482</td>\n",
       "      <td>-0.049427</td>\n",
       "      <td>0.053611</td>\n",
       "      <td>-0.010152</td>\n",
       "      <td>-0.012105</td>\n",
       "      <td>0.008928</td>\n",
       "      <td>0.281674</td>\n",
       "      <td>-0.048524</td>\n",
       "      <td>0.140565</td>\n",
       "    </tr>\n",
       "    <tr>\n",
       "      <th>Flight Distance</th>\n",
       "      <td>0.099461</td>\n",
       "      <td>1.000000</td>\n",
       "      <td>0.007131</td>\n",
       "      <td>-0.020043</td>\n",
       "      <td>0.065717</td>\n",
       "      <td>0.004793</td>\n",
       "      <td>0.056994</td>\n",
       "      <td>0.214869</td>\n",
       "      <td>0.157333</td>\n",
       "      <td>0.128740</td>\n",
       "      <td>...</td>\n",
       "      <td>0.063184</td>\n",
       "      <td>0.073072</td>\n",
       "      <td>0.057540</td>\n",
       "      <td>0.093149</td>\n",
       "      <td>0.002158</td>\n",
       "      <td>-0.002470</td>\n",
       "      <td>0.005828</td>\n",
       "      <td>0.225200</td>\n",
       "      <td>-0.267344</td>\n",
       "      <td>0.451211</td>\n",
       "    </tr>\n",
       "    <tr>\n",
       "      <th>Inflight wifi service</th>\n",
       "      <td>0.017859</td>\n",
       "      <td>0.007131</td>\n",
       "      <td>1.000000</td>\n",
       "      <td>0.343845</td>\n",
       "      <td>0.715856</td>\n",
       "      <td>0.336248</td>\n",
       "      <td>0.134718</td>\n",
       "      <td>0.456970</td>\n",
       "      <td>0.122658</td>\n",
       "      <td>0.209321</td>\n",
       "      <td>...</td>\n",
       "      <td>0.120923</td>\n",
       "      <td>0.043193</td>\n",
       "      <td>0.110441</td>\n",
       "      <td>0.132698</td>\n",
       "      <td>-0.017402</td>\n",
       "      <td>-0.019042</td>\n",
       "      <td>0.008974</td>\n",
       "      <td>0.007543</td>\n",
       "      <td>-0.105085</td>\n",
       "      <td>0.036279</td>\n",
       "    </tr>\n",
       "    <tr>\n",
       "      <th>Departure/Arrival time convenient</th>\n",
       "      <td>0.038125</td>\n",
       "      <td>-0.020043</td>\n",
       "      <td>0.343845</td>\n",
       "      <td>1.000000</td>\n",
       "      <td>0.436961</td>\n",
       "      <td>0.444757</td>\n",
       "      <td>0.004906</td>\n",
       "      <td>0.070119</td>\n",
       "      <td>0.011344</td>\n",
       "      <td>-0.004861</td>\n",
       "      <td>...</td>\n",
       "      <td>0.072126</td>\n",
       "      <td>0.093333</td>\n",
       "      <td>0.073318</td>\n",
       "      <td>0.014292</td>\n",
       "      <td>0.001005</td>\n",
       "      <td>-0.000918</td>\n",
       "      <td>0.009142</td>\n",
       "      <td>0.206869</td>\n",
       "      <td>0.259763</td>\n",
       "      <td>-0.092788</td>\n",
       "    </tr>\n",
       "    <tr>\n",
       "      <th>Ease of Online booking</th>\n",
       "      <td>0.024842</td>\n",
       "      <td>0.065717</td>\n",
       "      <td>0.715856</td>\n",
       "      <td>0.436961</td>\n",
       "      <td>1.000000</td>\n",
       "      <td>0.458655</td>\n",
       "      <td>0.031873</td>\n",
       "      <td>0.404074</td>\n",
       "      <td>0.030014</td>\n",
       "      <td>0.047032</td>\n",
       "      <td>...</td>\n",
       "      <td>0.038762</td>\n",
       "      <td>0.011081</td>\n",
       "      <td>0.035272</td>\n",
       "      <td>0.016179</td>\n",
       "      <td>-0.006371</td>\n",
       "      <td>-0.007947</td>\n",
       "      <td>0.006951</td>\n",
       "      <td>0.019509</td>\n",
       "      <td>-0.133511</td>\n",
       "      <td>0.106391</td>\n",
       "    </tr>\n",
       "    <tr>\n",
       "      <th>Gate location</th>\n",
       "      <td>-0.001330</td>\n",
       "      <td>0.004793</td>\n",
       "      <td>0.336248</td>\n",
       "      <td>0.444757</td>\n",
       "      <td>0.458655</td>\n",
       "      <td>1.000000</td>\n",
       "      <td>-0.001159</td>\n",
       "      <td>0.001688</td>\n",
       "      <td>0.003669</td>\n",
       "      <td>0.003517</td>\n",
       "      <td>...</td>\n",
       "      <td>0.002313</td>\n",
       "      <td>-0.035427</td>\n",
       "      <td>0.001681</td>\n",
       "      <td>-0.003830</td>\n",
       "      <td>0.005467</td>\n",
       "      <td>0.005178</td>\n",
       "      <td>0.000333</td>\n",
       "      <td>-0.006078</td>\n",
       "      <td>-0.030700</td>\n",
       "      <td>0.004150</td>\n",
       "    </tr>\n",
       "    <tr>\n",
       "      <th>Food and drink</th>\n",
       "      <td>0.023000</td>\n",
       "      <td>0.056994</td>\n",
       "      <td>0.134718</td>\n",
       "      <td>0.004906</td>\n",
       "      <td>0.031873</td>\n",
       "      <td>-0.001159</td>\n",
       "      <td>1.000000</td>\n",
       "      <td>0.234468</td>\n",
       "      <td>0.574556</td>\n",
       "      <td>0.622512</td>\n",
       "      <td>...</td>\n",
       "      <td>0.034746</td>\n",
       "      <td>0.087299</td>\n",
       "      <td>0.033993</td>\n",
       "      <td>0.657760</td>\n",
       "      <td>-0.029926</td>\n",
       "      <td>-0.032466</td>\n",
       "      <td>0.005772</td>\n",
       "      <td>0.059454</td>\n",
       "      <td>-0.063439</td>\n",
       "      <td>0.085908</td>\n",
       "    </tr>\n",
       "    <tr>\n",
       "      <th>Online boarding</th>\n",
       "      <td>0.208939</td>\n",
       "      <td>0.214869</td>\n",
       "      <td>0.456970</td>\n",
       "      <td>0.070119</td>\n",
       "      <td>0.404074</td>\n",
       "      <td>0.001688</td>\n",
       "      <td>0.234468</td>\n",
       "      <td>1.000000</td>\n",
       "      <td>0.420211</td>\n",
       "      <td>0.285066</td>\n",
       "      <td>...</td>\n",
       "      <td>0.083280</td>\n",
       "      <td>0.204462</td>\n",
       "      <td>0.074573</td>\n",
       "      <td>0.331517</td>\n",
       "      <td>-0.018982</td>\n",
       "      <td>-0.021874</td>\n",
       "      <td>-0.042260</td>\n",
       "      <td>0.189262</td>\n",
       "      <td>-0.224803</td>\n",
       "      <td>0.322924</td>\n",
       "    </tr>\n",
       "    <tr>\n",
       "      <th>Seat comfort</th>\n",
       "      <td>0.160277</td>\n",
       "      <td>0.157333</td>\n",
       "      <td>0.122658</td>\n",
       "      <td>0.011344</td>\n",
       "      <td>0.030014</td>\n",
       "      <td>0.003669</td>\n",
       "      <td>0.574556</td>\n",
       "      <td>0.420211</td>\n",
       "      <td>1.000000</td>\n",
       "      <td>0.610590</td>\n",
       "      <td>...</td>\n",
       "      <td>0.074542</td>\n",
       "      <td>0.191854</td>\n",
       "      <td>0.069218</td>\n",
       "      <td>0.678534</td>\n",
       "      <td>-0.027898</td>\n",
       "      <td>-0.029735</td>\n",
       "      <td>-0.026502</td>\n",
       "      <td>0.159484</td>\n",
       "      <td>-0.124399</td>\n",
       "      <td>0.227444</td>\n",
       "    </tr>\n",
       "    <tr>\n",
       "      <th>Inflight entertainment</th>\n",
       "      <td>0.076444</td>\n",
       "      <td>0.128740</td>\n",
       "      <td>0.209321</td>\n",
       "      <td>-0.004861</td>\n",
       "      <td>0.047032</td>\n",
       "      <td>0.003517</td>\n",
       "      <td>0.622512</td>\n",
       "      <td>0.285066</td>\n",
       "      <td>0.610590</td>\n",
       "      <td>1.000000</td>\n",
       "      <td>...</td>\n",
       "      <td>0.378210</td>\n",
       "      <td>0.120867</td>\n",
       "      <td>0.404855</td>\n",
       "      <td>0.691815</td>\n",
       "      <td>-0.027489</td>\n",
       "      <td>-0.030597</td>\n",
       "      <td>0.006117</td>\n",
       "      <td>0.109930</td>\n",
       "      <td>-0.148199</td>\n",
       "      <td>0.194366</td>\n",
       "    </tr>\n",
       "    <tr>\n",
       "      <th>On-board service</th>\n",
       "      <td>0.057594</td>\n",
       "      <td>0.109526</td>\n",
       "      <td>0.121500</td>\n",
       "      <td>0.068882</td>\n",
       "      <td>0.038833</td>\n",
       "      <td>-0.028373</td>\n",
       "      <td>0.059073</td>\n",
       "      <td>0.155443</td>\n",
       "      <td>0.131971</td>\n",
       "      <td>0.420153</td>\n",
       "      <td>...</td>\n",
       "      <td>0.519134</td>\n",
       "      <td>0.243914</td>\n",
       "      <td>0.550782</td>\n",
       "      <td>0.123220</td>\n",
       "      <td>-0.031569</td>\n",
       "      <td>-0.035089</td>\n",
       "      <td>0.008156</td>\n",
       "      <td>0.056560</td>\n",
       "      <td>-0.056543</td>\n",
       "      <td>0.209505</td>\n",
       "    </tr>\n",
       "    <tr>\n",
       "      <th>Leg room service</th>\n",
       "      <td>0.040583</td>\n",
       "      <td>0.133916</td>\n",
       "      <td>0.160473</td>\n",
       "      <td>0.012441</td>\n",
       "      <td>0.107601</td>\n",
       "      <td>-0.005873</td>\n",
       "      <td>0.032498</td>\n",
       "      <td>0.123950</td>\n",
       "      <td>0.105559</td>\n",
       "      <td>0.299692</td>\n",
       "      <td>...</td>\n",
       "      <td>0.369544</td>\n",
       "      <td>0.153137</td>\n",
       "      <td>0.368656</td>\n",
       "      <td>0.096370</td>\n",
       "      <td>0.014363</td>\n",
       "      <td>0.011924</td>\n",
       "      <td>0.031798</td>\n",
       "      <td>0.047868</td>\n",
       "      <td>-0.138803</td>\n",
       "      <td>0.204964</td>\n",
       "    </tr>\n",
       "    <tr>\n",
       "      <th>Baggage handling</th>\n",
       "      <td>-0.047529</td>\n",
       "      <td>0.063184</td>\n",
       "      <td>0.120923</td>\n",
       "      <td>0.072126</td>\n",
       "      <td>0.038762</td>\n",
       "      <td>0.002313</td>\n",
       "      <td>0.034746</td>\n",
       "      <td>0.083280</td>\n",
       "      <td>0.074542</td>\n",
       "      <td>0.378210</td>\n",
       "      <td>...</td>\n",
       "      <td>1.000000</td>\n",
       "      <td>0.233122</td>\n",
       "      <td>0.628561</td>\n",
       "      <td>0.095793</td>\n",
       "      <td>-0.005573</td>\n",
       "      <td>-0.008576</td>\n",
       "      <td>0.037391</td>\n",
       "      <td>-0.024723</td>\n",
       "      <td>-0.031321</td>\n",
       "      <td>0.160460</td>\n",
       "    </tr>\n",
       "    <tr>\n",
       "      <th>Checkin service</th>\n",
       "      <td>0.035482</td>\n",
       "      <td>0.073072</td>\n",
       "      <td>0.043193</td>\n",
       "      <td>0.093333</td>\n",
       "      <td>0.011081</td>\n",
       "      <td>-0.035427</td>\n",
       "      <td>0.087299</td>\n",
       "      <td>0.204462</td>\n",
       "      <td>0.191854</td>\n",
       "      <td>0.120867</td>\n",
       "      <td>...</td>\n",
       "      <td>0.233122</td>\n",
       "      <td>1.000000</td>\n",
       "      <td>0.237197</td>\n",
       "      <td>0.179583</td>\n",
       "      <td>-0.018453</td>\n",
       "      <td>-0.020324</td>\n",
       "      <td>0.010563</td>\n",
       "      <td>0.032177</td>\n",
       "      <td>0.016751</td>\n",
       "      <td>0.151613</td>\n",
       "    </tr>\n",
       "    <tr>\n",
       "      <th>Inflight service</th>\n",
       "      <td>-0.049427</td>\n",
       "      <td>0.057540</td>\n",
       "      <td>0.110441</td>\n",
       "      <td>0.073318</td>\n",
       "      <td>0.035272</td>\n",
       "      <td>0.001681</td>\n",
       "      <td>0.033993</td>\n",
       "      <td>0.074573</td>\n",
       "      <td>0.069218</td>\n",
       "      <td>0.404855</td>\n",
       "      <td>...</td>\n",
       "      <td>0.628561</td>\n",
       "      <td>0.237197</td>\n",
       "      <td>1.000000</td>\n",
       "      <td>0.088779</td>\n",
       "      <td>-0.054813</td>\n",
       "      <td>-0.058980</td>\n",
       "      <td>0.039410</td>\n",
       "      <td>-0.022670</td>\n",
       "      <td>-0.022599</td>\n",
       "      <td>0.156353</td>\n",
       "    </tr>\n",
       "    <tr>\n",
       "      <th>Cleanliness</th>\n",
       "      <td>0.053611</td>\n",
       "      <td>0.093149</td>\n",
       "      <td>0.132698</td>\n",
       "      <td>0.014292</td>\n",
       "      <td>0.016179</td>\n",
       "      <td>-0.003830</td>\n",
       "      <td>0.657760</td>\n",
       "      <td>0.331517</td>\n",
       "      <td>0.678534</td>\n",
       "      <td>0.691815</td>\n",
       "      <td>...</td>\n",
       "      <td>0.095793</td>\n",
       "      <td>0.179583</td>\n",
       "      <td>0.088779</td>\n",
       "      <td>1.000000</td>\n",
       "      <td>-0.014093</td>\n",
       "      <td>-0.015732</td>\n",
       "      <td>0.006505</td>\n",
       "      <td>0.083613</td>\n",
       "      <td>-0.079207</td>\n",
       "      <td>0.135818</td>\n",
       "    </tr>\n",
       "    <tr>\n",
       "      <th>Departure Delay in Minutes</th>\n",
       "      <td>-0.010152</td>\n",
       "      <td>0.002158</td>\n",
       "      <td>-0.017402</td>\n",
       "      <td>0.001005</td>\n",
       "      <td>-0.006371</td>\n",
       "      <td>0.005467</td>\n",
       "      <td>-0.029926</td>\n",
       "      <td>-0.018982</td>\n",
       "      <td>-0.027898</td>\n",
       "      <td>-0.027489</td>\n",
       "      <td>...</td>\n",
       "      <td>-0.005573</td>\n",
       "      <td>-0.018453</td>\n",
       "      <td>-0.054813</td>\n",
       "      <td>-0.014093</td>\n",
       "      <td>1.000000</td>\n",
       "      <td>0.960247</td>\n",
       "      <td>0.002935</td>\n",
       "      <td>-0.004036</td>\n",
       "      <td>-0.005432</td>\n",
       "      <td>-0.009637</td>\n",
       "    </tr>\n",
       "    <tr>\n",
       "      <th>Arrival Delay in Minutes</th>\n",
       "      <td>-0.012105</td>\n",
       "      <td>-0.002470</td>\n",
       "      <td>-0.019042</td>\n",
       "      <td>-0.000918</td>\n",
       "      <td>-0.007947</td>\n",
       "      <td>0.005178</td>\n",
       "      <td>-0.032466</td>\n",
       "      <td>-0.021874</td>\n",
       "      <td>-0.029735</td>\n",
       "      <td>-0.030597</td>\n",
       "      <td>...</td>\n",
       "      <td>-0.008576</td>\n",
       "      <td>-0.020324</td>\n",
       "      <td>-0.058980</td>\n",
       "      <td>-0.015732</td>\n",
       "      <td>0.960247</td>\n",
       "      <td>1.000000</td>\n",
       "      <td>0.000347</td>\n",
       "      <td>-0.004815</td>\n",
       "      <td>-0.005867</td>\n",
       "      <td>-0.013538</td>\n",
       "    </tr>\n",
       "    <tr>\n",
       "      <th>GenderNumeric</th>\n",
       "      <td>0.008928</td>\n",
       "      <td>0.005828</td>\n",
       "      <td>0.008974</td>\n",
       "      <td>0.009142</td>\n",
       "      <td>0.006951</td>\n",
       "      <td>0.000333</td>\n",
       "      <td>0.005772</td>\n",
       "      <td>-0.042260</td>\n",
       "      <td>-0.026502</td>\n",
       "      <td>0.006117</td>\n",
       "      <td>...</td>\n",
       "      <td>0.037391</td>\n",
       "      <td>0.010563</td>\n",
       "      <td>0.039410</td>\n",
       "      <td>0.006505</td>\n",
       "      <td>0.002935</td>\n",
       "      <td>0.000347</td>\n",
       "      <td>1.000000</td>\n",
       "      <td>0.031732</td>\n",
       "      <td>0.006909</td>\n",
       "      <td>0.008253</td>\n",
       "    </tr>\n",
       "    <tr>\n",
       "      <th>CustomerTypeNumeric</th>\n",
       "      <td>0.281674</td>\n",
       "      <td>0.225200</td>\n",
       "      <td>0.007543</td>\n",
       "      <td>0.206869</td>\n",
       "      <td>0.019509</td>\n",
       "      <td>-0.006078</td>\n",
       "      <td>0.059454</td>\n",
       "      <td>0.189262</td>\n",
       "      <td>0.159484</td>\n",
       "      <td>0.109930</td>\n",
       "      <td>...</td>\n",
       "      <td>-0.024723</td>\n",
       "      <td>0.032177</td>\n",
       "      <td>-0.022670</td>\n",
       "      <td>0.083613</td>\n",
       "      <td>-0.004036</td>\n",
       "      <td>-0.004815</td>\n",
       "      <td>0.031732</td>\n",
       "      <td>1.000000</td>\n",
       "      <td>0.308333</td>\n",
       "      <td>0.105735</td>\n",
       "    </tr>\n",
       "    <tr>\n",
       "      <th>TypeofTravelNumeric</th>\n",
       "      <td>-0.048524</td>\n",
       "      <td>-0.267344</td>\n",
       "      <td>-0.105085</td>\n",
       "      <td>0.259763</td>\n",
       "      <td>-0.133511</td>\n",
       "      <td>-0.030700</td>\n",
       "      <td>-0.063439</td>\n",
       "      <td>-0.224803</td>\n",
       "      <td>-0.124399</td>\n",
       "      <td>-0.148199</td>\n",
       "      <td>...</td>\n",
       "      <td>-0.031321</td>\n",
       "      <td>0.016751</td>\n",
       "      <td>-0.022599</td>\n",
       "      <td>-0.079207</td>\n",
       "      <td>-0.005432</td>\n",
       "      <td>-0.005867</td>\n",
       "      <td>0.006909</td>\n",
       "      <td>0.308333</td>\n",
       "      <td>1.000000</td>\n",
       "      <td>-0.545257</td>\n",
       "    </tr>\n",
       "    <tr>\n",
       "      <th>ClassNumeric</th>\n",
       "      <td>0.140565</td>\n",
       "      <td>0.451211</td>\n",
       "      <td>0.036279</td>\n",
       "      <td>-0.092788</td>\n",
       "      <td>0.106391</td>\n",
       "      <td>0.004150</td>\n",
       "      <td>0.085908</td>\n",
       "      <td>0.322924</td>\n",
       "      <td>0.227444</td>\n",
       "      <td>0.194366</td>\n",
       "      <td>...</td>\n",
       "      <td>0.160460</td>\n",
       "      <td>0.151613</td>\n",
       "      <td>0.156353</td>\n",
       "      <td>0.135818</td>\n",
       "      <td>-0.009637</td>\n",
       "      <td>-0.013538</td>\n",
       "      <td>0.008253</td>\n",
       "      <td>0.105735</td>\n",
       "      <td>-0.545257</td>\n",
       "      <td>1.000000</td>\n",
       "    </tr>\n",
       "  </tbody>\n",
       "</table>\n",
       "<p>22 rows × 22 columns</p>\n",
       "</div>"
      ],
      "text/plain": [
       "                                        Age  Flight Distance  \\\n",
       "Age                                1.000000         0.099461   \n",
       "Flight Distance                    0.099461         1.000000   \n",
       "Inflight wifi service              0.017859         0.007131   \n",
       "Departure/Arrival time convenient  0.038125        -0.020043   \n",
       "Ease of Online booking             0.024842         0.065717   \n",
       "Gate location                     -0.001330         0.004793   \n",
       "Food and drink                     0.023000         0.056994   \n",
       "Online boarding                    0.208939         0.214869   \n",
       "Seat comfort                       0.160277         0.157333   \n",
       "Inflight entertainment             0.076444         0.128740   \n",
       "On-board service                   0.057594         0.109526   \n",
       "Leg room service                   0.040583         0.133916   \n",
       "Baggage handling                  -0.047529         0.063184   \n",
       "Checkin service                    0.035482         0.073072   \n",
       "Inflight service                  -0.049427         0.057540   \n",
       "Cleanliness                        0.053611         0.093149   \n",
       "Departure Delay in Minutes        -0.010152         0.002158   \n",
       "Arrival Delay in Minutes          -0.012105        -0.002470   \n",
       "GenderNumeric                      0.008928         0.005828   \n",
       "CustomerTypeNumeric                0.281674         0.225200   \n",
       "TypeofTravelNumeric               -0.048524        -0.267344   \n",
       "ClassNumeric                       0.140565         0.451211   \n",
       "\n",
       "                                   Inflight wifi service  \\\n",
       "Age                                             0.017859   \n",
       "Flight Distance                                 0.007131   \n",
       "Inflight wifi service                           1.000000   \n",
       "Departure/Arrival time convenient               0.343845   \n",
       "Ease of Online booking                          0.715856   \n",
       "Gate location                                   0.336248   \n",
       "Food and drink                                  0.134718   \n",
       "Online boarding                                 0.456970   \n",
       "Seat comfort                                    0.122658   \n",
       "Inflight entertainment                          0.209321   \n",
       "On-board service                                0.121500   \n",
       "Leg room service                                0.160473   \n",
       "Baggage handling                                0.120923   \n",
       "Checkin service                                 0.043193   \n",
       "Inflight service                                0.110441   \n",
       "Cleanliness                                     0.132698   \n",
       "Departure Delay in Minutes                     -0.017402   \n",
       "Arrival Delay in Minutes                       -0.019042   \n",
       "GenderNumeric                                   0.008974   \n",
       "CustomerTypeNumeric                             0.007543   \n",
       "TypeofTravelNumeric                            -0.105085   \n",
       "ClassNumeric                                    0.036279   \n",
       "\n",
       "                                   Departure/Arrival time convenient  \\\n",
       "Age                                                         0.038125   \n",
       "Flight Distance                                            -0.020043   \n",
       "Inflight wifi service                                       0.343845   \n",
       "Departure/Arrival time convenient                           1.000000   \n",
       "Ease of Online booking                                      0.436961   \n",
       "Gate location                                               0.444757   \n",
       "Food and drink                                              0.004906   \n",
       "Online boarding                                             0.070119   \n",
       "Seat comfort                                                0.011344   \n",
       "Inflight entertainment                                     -0.004861   \n",
       "On-board service                                            0.068882   \n",
       "Leg room service                                            0.012441   \n",
       "Baggage handling                                            0.072126   \n",
       "Checkin service                                             0.093333   \n",
       "Inflight service                                            0.073318   \n",
       "Cleanliness                                                 0.014292   \n",
       "Departure Delay in Minutes                                  0.001005   \n",
       "Arrival Delay in Minutes                                   -0.000918   \n",
       "GenderNumeric                                               0.009142   \n",
       "CustomerTypeNumeric                                         0.206869   \n",
       "TypeofTravelNumeric                                         0.259763   \n",
       "ClassNumeric                                               -0.092788   \n",
       "\n",
       "                                   Ease of Online booking  Gate location  \\\n",
       "Age                                              0.024842      -0.001330   \n",
       "Flight Distance                                  0.065717       0.004793   \n",
       "Inflight wifi service                            0.715856       0.336248   \n",
       "Departure/Arrival time convenient                0.436961       0.444757   \n",
       "Ease of Online booking                           1.000000       0.458655   \n",
       "Gate location                                    0.458655       1.000000   \n",
       "Food and drink                                   0.031873      -0.001159   \n",
       "Online boarding                                  0.404074       0.001688   \n",
       "Seat comfort                                     0.030014       0.003669   \n",
       "Inflight entertainment                           0.047032       0.003517   \n",
       "On-board service                                 0.038833      -0.028373   \n",
       "Leg room service                                 0.107601      -0.005873   \n",
       "Baggage handling                                 0.038762       0.002313   \n",
       "Checkin service                                  0.011081      -0.035427   \n",
       "Inflight service                                 0.035272       0.001681   \n",
       "Cleanliness                                      0.016179      -0.003830   \n",
       "Departure Delay in Minutes                      -0.006371       0.005467   \n",
       "Arrival Delay in Minutes                        -0.007947       0.005178   \n",
       "GenderNumeric                                    0.006951       0.000333   \n",
       "CustomerTypeNumeric                              0.019509      -0.006078   \n",
       "TypeofTravelNumeric                             -0.133511      -0.030700   \n",
       "ClassNumeric                                     0.106391       0.004150   \n",
       "\n",
       "                                   Food and drink  Online boarding  \\\n",
       "Age                                      0.023000         0.208939   \n",
       "Flight Distance                          0.056994         0.214869   \n",
       "Inflight wifi service                    0.134718         0.456970   \n",
       "Departure/Arrival time convenient        0.004906         0.070119   \n",
       "Ease of Online booking                   0.031873         0.404074   \n",
       "Gate location                           -0.001159         0.001688   \n",
       "Food and drink                           1.000000         0.234468   \n",
       "Online boarding                          0.234468         1.000000   \n",
       "Seat comfort                             0.574556         0.420211   \n",
       "Inflight entertainment                   0.622512         0.285066   \n",
       "On-board service                         0.059073         0.155443   \n",
       "Leg room service                         0.032498         0.123950   \n",
       "Baggage handling                         0.034746         0.083280   \n",
       "Checkin service                          0.087299         0.204462   \n",
       "Inflight service                         0.033993         0.074573   \n",
       "Cleanliness                              0.657760         0.331517   \n",
       "Departure Delay in Minutes              -0.029926        -0.018982   \n",
       "Arrival Delay in Minutes                -0.032466        -0.021874   \n",
       "GenderNumeric                            0.005772        -0.042260   \n",
       "CustomerTypeNumeric                      0.059454         0.189262   \n",
       "TypeofTravelNumeric                     -0.063439        -0.224803   \n",
       "ClassNumeric                             0.085908         0.322924   \n",
       "\n",
       "                                   Seat comfort  Inflight entertainment  ...  \\\n",
       "Age                                    0.160277                0.076444  ...   \n",
       "Flight Distance                        0.157333                0.128740  ...   \n",
       "Inflight wifi service                  0.122658                0.209321  ...   \n",
       "Departure/Arrival time convenient      0.011344               -0.004861  ...   \n",
       "Ease of Online booking                 0.030014                0.047032  ...   \n",
       "Gate location                          0.003669                0.003517  ...   \n",
       "Food and drink                         0.574556                0.622512  ...   \n",
       "Online boarding                        0.420211                0.285066  ...   \n",
       "Seat comfort                           1.000000                0.610590  ...   \n",
       "Inflight entertainment                 0.610590                1.000000  ...   \n",
       "On-board service                       0.131971                0.420153  ...   \n",
       "Leg room service                       0.105559                0.299692  ...   \n",
       "Baggage handling                       0.074542                0.378210  ...   \n",
       "Checkin service                        0.191854                0.120867  ...   \n",
       "Inflight service                       0.069218                0.404855  ...   \n",
       "Cleanliness                            0.678534                0.691815  ...   \n",
       "Departure Delay in Minutes            -0.027898               -0.027489  ...   \n",
       "Arrival Delay in Minutes              -0.029735               -0.030597  ...   \n",
       "GenderNumeric                         -0.026502                0.006117  ...   \n",
       "CustomerTypeNumeric                    0.159484                0.109930  ...   \n",
       "TypeofTravelNumeric                   -0.124399               -0.148199  ...   \n",
       "ClassNumeric                           0.227444                0.194366  ...   \n",
       "\n",
       "                                   Baggage handling  Checkin service  \\\n",
       "Age                                       -0.047529         0.035482   \n",
       "Flight Distance                            0.063184         0.073072   \n",
       "Inflight wifi service                      0.120923         0.043193   \n",
       "Departure/Arrival time convenient          0.072126         0.093333   \n",
       "Ease of Online booking                     0.038762         0.011081   \n",
       "Gate location                              0.002313        -0.035427   \n",
       "Food and drink                             0.034746         0.087299   \n",
       "Online boarding                            0.083280         0.204462   \n",
       "Seat comfort                               0.074542         0.191854   \n",
       "Inflight entertainment                     0.378210         0.120867   \n",
       "On-board service                           0.519134         0.243914   \n",
       "Leg room service                           0.369544         0.153137   \n",
       "Baggage handling                           1.000000         0.233122   \n",
       "Checkin service                            0.233122         1.000000   \n",
       "Inflight service                           0.628561         0.237197   \n",
       "Cleanliness                                0.095793         0.179583   \n",
       "Departure Delay in Minutes                -0.005573        -0.018453   \n",
       "Arrival Delay in Minutes                  -0.008576        -0.020324   \n",
       "GenderNumeric                              0.037391         0.010563   \n",
       "CustomerTypeNumeric                       -0.024723         0.032177   \n",
       "TypeofTravelNumeric                       -0.031321         0.016751   \n",
       "ClassNumeric                               0.160460         0.151613   \n",
       "\n",
       "                                   Inflight service  Cleanliness  \\\n",
       "Age                                       -0.049427     0.053611   \n",
       "Flight Distance                            0.057540     0.093149   \n",
       "Inflight wifi service                      0.110441     0.132698   \n",
       "Departure/Arrival time convenient          0.073318     0.014292   \n",
       "Ease of Online booking                     0.035272     0.016179   \n",
       "Gate location                              0.001681    -0.003830   \n",
       "Food and drink                             0.033993     0.657760   \n",
       "Online boarding                            0.074573     0.331517   \n",
       "Seat comfort                               0.069218     0.678534   \n",
       "Inflight entertainment                     0.404855     0.691815   \n",
       "On-board service                           0.550782     0.123220   \n",
       "Leg room service                           0.368656     0.096370   \n",
       "Baggage handling                           0.628561     0.095793   \n",
       "Checkin service                            0.237197     0.179583   \n",
       "Inflight service                           1.000000     0.088779   \n",
       "Cleanliness                                0.088779     1.000000   \n",
       "Departure Delay in Minutes                -0.054813    -0.014093   \n",
       "Arrival Delay in Minutes                  -0.058980    -0.015732   \n",
       "GenderNumeric                              0.039410     0.006505   \n",
       "CustomerTypeNumeric                       -0.022670     0.083613   \n",
       "TypeofTravelNumeric                       -0.022599    -0.079207   \n",
       "ClassNumeric                               0.156353     0.135818   \n",
       "\n",
       "                                   Departure Delay in Minutes  \\\n",
       "Age                                                 -0.010152   \n",
       "Flight Distance                                      0.002158   \n",
       "Inflight wifi service                               -0.017402   \n",
       "Departure/Arrival time convenient                    0.001005   \n",
       "Ease of Online booking                              -0.006371   \n",
       "Gate location                                        0.005467   \n",
       "Food and drink                                      -0.029926   \n",
       "Online boarding                                     -0.018982   \n",
       "Seat comfort                                        -0.027898   \n",
       "Inflight entertainment                              -0.027489   \n",
       "On-board service                                    -0.031569   \n",
       "Leg room service                                     0.014363   \n",
       "Baggage handling                                    -0.005573   \n",
       "Checkin service                                     -0.018453   \n",
       "Inflight service                                    -0.054813   \n",
       "Cleanliness                                         -0.014093   \n",
       "Departure Delay in Minutes                           1.000000   \n",
       "Arrival Delay in Minutes                             0.960247   \n",
       "GenderNumeric                                        0.002935   \n",
       "CustomerTypeNumeric                                 -0.004036   \n",
       "TypeofTravelNumeric                                 -0.005432   \n",
       "ClassNumeric                                        -0.009637   \n",
       "\n",
       "                                   Arrival Delay in Minutes  GenderNumeric  \\\n",
       "Age                                               -0.012105       0.008928   \n",
       "Flight Distance                                   -0.002470       0.005828   \n",
       "Inflight wifi service                             -0.019042       0.008974   \n",
       "Departure/Arrival time convenient                 -0.000918       0.009142   \n",
       "Ease of Online booking                            -0.007947       0.006951   \n",
       "Gate location                                      0.005178       0.000333   \n",
       "Food and drink                                    -0.032466       0.005772   \n",
       "Online boarding                                   -0.021874      -0.042260   \n",
       "Seat comfort                                      -0.029735      -0.026502   \n",
       "Inflight entertainment                            -0.030597       0.006117   \n",
       "On-board service                                  -0.035089       0.008156   \n",
       "Leg room service                                   0.011924       0.031798   \n",
       "Baggage handling                                  -0.008576       0.037391   \n",
       "Checkin service                                   -0.020324       0.010563   \n",
       "Inflight service                                  -0.058980       0.039410   \n",
       "Cleanliness                                       -0.015732       0.006505   \n",
       "Departure Delay in Minutes                         0.960247       0.002935   \n",
       "Arrival Delay in Minutes                           1.000000       0.000347   \n",
       "GenderNumeric                                      0.000347       1.000000   \n",
       "CustomerTypeNumeric                               -0.004815       0.031732   \n",
       "TypeofTravelNumeric                               -0.005867       0.006909   \n",
       "ClassNumeric                                      -0.013538       0.008253   \n",
       "\n",
       "                                   CustomerTypeNumeric  TypeofTravelNumeric  \\\n",
       "Age                                           0.281674            -0.048524   \n",
       "Flight Distance                               0.225200            -0.267344   \n",
       "Inflight wifi service                         0.007543            -0.105085   \n",
       "Departure/Arrival time convenient             0.206869             0.259763   \n",
       "Ease of Online booking                        0.019509            -0.133511   \n",
       "Gate location                                -0.006078            -0.030700   \n",
       "Food and drink                                0.059454            -0.063439   \n",
       "Online boarding                               0.189262            -0.224803   \n",
       "Seat comfort                                  0.159484            -0.124399   \n",
       "Inflight entertainment                        0.109930            -0.148199   \n",
       "On-board service                              0.056560            -0.056543   \n",
       "Leg room service                              0.047868            -0.138803   \n",
       "Baggage handling                             -0.024723            -0.031321   \n",
       "Checkin service                               0.032177             0.016751   \n",
       "Inflight service                             -0.022670            -0.022599   \n",
       "Cleanliness                                   0.083613            -0.079207   \n",
       "Departure Delay in Minutes                   -0.004036            -0.005432   \n",
       "Arrival Delay in Minutes                     -0.004815            -0.005867   \n",
       "GenderNumeric                                 0.031732             0.006909   \n",
       "CustomerTypeNumeric                           1.000000             0.308333   \n",
       "TypeofTravelNumeric                           0.308333             1.000000   \n",
       "ClassNumeric                                  0.105735            -0.545257   \n",
       "\n",
       "                                   ClassNumeric  \n",
       "Age                                    0.140565  \n",
       "Flight Distance                        0.451211  \n",
       "Inflight wifi service                  0.036279  \n",
       "Departure/Arrival time convenient     -0.092788  \n",
       "Ease of Online booking                 0.106391  \n",
       "Gate location                          0.004150  \n",
       "Food and drink                         0.085908  \n",
       "Online boarding                        0.322924  \n",
       "Seat comfort                           0.227444  \n",
       "Inflight entertainment                 0.194366  \n",
       "On-board service                       0.209505  \n",
       "Leg room service                       0.204964  \n",
       "Baggage handling                       0.160460  \n",
       "Checkin service                        0.151613  \n",
       "Inflight service                       0.156353  \n",
       "Cleanliness                            0.135818  \n",
       "Departure Delay in Minutes            -0.009637  \n",
       "Arrival Delay in Minutes              -0.013538  \n",
       "GenderNumeric                          0.008253  \n",
       "CustomerTypeNumeric                    0.105735  \n",
       "TypeofTravelNumeric                   -0.545257  \n",
       "ClassNumeric                           1.000000  \n",
       "\n",
       "[22 rows x 22 columns]"
      ]
     },
     "execution_count": 92,
     "metadata": {},
     "output_type": "execute_result"
    }
   ],
   "source": [
    "dfclean.corr()"
   ]
  },
  {
   "cell_type": "code",
   "execution_count": 56,
   "id": "267aaacb",
   "metadata": {},
   "outputs": [
    {
     "data": {
      "image/png": "[encoded data removed]",
      "text/plain": [
       "<Figure size 1296x936 with 2 Axes>"
      ]
     },
     "metadata": {
      "needs_background": "light"
     },
     "output_type": "display_data"
    }
   ],
   "source": [
    "f, ax = plt.subplots(figsize=[18, 13])\n",
    "sns.heatmap(dfclean.corr(), annot=True, fmt=\".2f\", ax=ax, cmap=\"magma\")\n",
    "ax.set_title(\"Correlation Matrix\", fontsize=20)\n",
    "plt.show()"
   ]
  },
  {
   "cell_type": "markdown",
   "id": "8590c40d",
   "metadata": {},
   "source": [
    "Very strong correlations (values from 0.8 to 1 or -0.8 to -1.0)\n",
    "Strong correlations (values from 0.6 to 0.8 or -0.6 to -0.8)\n",
    "Moderate correlations (values from 0.4 to 0.6 or -0.4 to -0.6) "
   ]
  },
  {
   "cell_type": "code",
   "execution_count": 57,
   "id": "79628446",
   "metadata": {
    "scrolled": true
   },
   "outputs": [],
   "source": [
    "#dfclean.corrwith(dfclean[\"satisfaction\"]).sort_values(ascending=False) #sort based on correlation"
   ]
  },
  {
   "cell_type": "markdown",
   "id": "6c07c50e",
   "metadata": {},
   "source": [
    "#### Check distribution of the data"
   ]
  },
  {
   "cell_type": "code",
   "execution_count": 58,
   "id": "abfc521a",
   "metadata": {
    "scrolled": true
   },
   "outputs": [
    {
     "name": "stderr",
     "output_type": "stream",
     "text": [
      "C:\\Users\\thud1\\anaconda3\\envs\\ML7331\\lib\\site-packages\\seaborn\\axisgrid.py:409: RuntimeWarning:\n",
      "\n",
      "More than 20 figures have been opened. Figures created through the pyplot interface (`matplotlib.pyplot.figure`) are retained until explicitly closed and may consume too much memory. (To control this warning, see the rcParam `figure.max_open_warning`).\n",
      "\n"
     ]
    },
    {
     "data": {
      "image/png": "[encoded data removed]",
      "text/plain": [
       "<Figure size 360x360 with 1 Axes>"
      ]
     },
     "metadata": {
      "needs_background": "light"
     },
     "output_type": "display_data"
    },
    {
     "data": {
      "image/png": "[encoded data removed]",
      "text/plain": [
       "<Figure size 360x360 with 1 Axes>"
      ]
     },
     "metadata": {
      "needs_background": "light"
     },
     "output_type": "display_data"
    },
    {
     "data": {
      "image/png": "[encoded data removed]",
      "text/plain": [
       "<Figure size 360x360 with 1 Axes>"
      ]
     },
     "metadata": {
      "needs_background": "light"
     },
     "output_type": "display_data"
    },
    {
     "data": {
      "image/png": "[encoded data removed]",
      "text/plain": [
       "<Figure size 360x360 with 1 Axes>"
      ]
     },
     "metadata": {
      "needs_background": "light"
     },
     "output_type": "display_data"
    },
    {
     "data": {
      "image/png": "[encoded data removed]",
      "text/plain": [
       "<Figure size 360x360 with 1 Axes>"
      ]
     },
     "metadata": {
      "needs_background": "light"
     },
     "output_type": "display_data"
    },
    {
     "data": {
      "image/png": "[encoded data removed]",
      "text/plain": [
       "<Figure size 360x360 with 1 Axes>"
      ]
     },
     "metadata": {
      "needs_background": "light"
     },
     "output_type": "display_data"
    },
    {
     "data": {
      "image/png": "[encoded data removed]",
      "text/plain": [
       "<Figure size 360x360 with 1 Axes>"
      ]
     },
     "metadata": {
      "needs_background": "light"
     },
     "output_type": "display_data"
    },
    {
     "data": {
      "image/png": "[encoded data removed]",
      "text/plain": [
       "<Figure size 360x360 with 1 Axes>"
      ]
     },
     "metadata": {
      "needs_background": "light"
     },
     "output_type": "display_data"
    },
    {
     "data": {
      "image/png": "[encoded data removed]",
      "text/plain": [
       "<Figure size 360x360 with 1 Axes>"
      ]
     },
     "metadata": {
      "needs_background": "light"
     },
     "output_type": "display_data"
    },
    {
     "data": {
      "image/png": "[encoded data removed]",
      "text/plain": [
       "<Figure size 360x360 with 1 Axes>"
      ]
     },
     "metadata": {
      "needs_background": "light"
     },
     "output_type": "display_data"
    },
    {
     "data": {
      "image/png": "[encoded data removed]",
      "text/plain": [
       "<Figure size 360x360 with 1 Axes>"
      ]
     },
     "metadata": {
      "needs_background": "light"
     },
     "output_type": "display_data"
    },
    {
     "data": {
      "image/png": "[encoded data removed]",
      "text/plain": [
       "<Figure size 360x360 with 1 Axes>"
      ]
     },
     "metadata": {
      "needs_background": "light"
     },
     "output_type": "display_data"
    },
    {
     "data": {
      "image/png": "[encoded data removed]",
      "text/plain": [
       "<Figure size 360x360 with 1 Axes>"
      ]
     },
     "metadata": {
      "needs_background": "light"
     },
     "output_type": "display_data"
    },
    {
     "data": {
      "image/png": "[encoded data removed]",
      "text/plain": [
       "<Figure size 360x360 with 1 Axes>"
      ]
     },
     "metadata": {
      "needs_background": "light"
     },
     "output_type": "display_data"
    },
    {
     "data": {
      "image/png": "[encoded data removed]",
      "text/plain": [
       "<Figure size 360x360 with 1 Axes>"
      ]
     },
     "metadata": {
      "needs_background": "light"
     },
     "output_type": "display_data"
    },
    {
     "data": {
      "image/png": "[encoded data removed]",
      "text/plain": [
       "<Figure size 360x360 with 1 Axes>"
      ]
     },
     "metadata": {
      "needs_background": "light"
     },
     "output_type": "display_data"
    },
    {
     "data": {
      "image/png": "[encoded data removed]",
      "text/plain": [
       "<Figure size 360x360 with 1 Axes>"
      ]
     },
     "metadata": {
      "needs_background": "light"
     },
     "output_type": "display_data"
    },
    {
     "data": {
      "image/png": "[encoded data removed]",
      "text/plain": [
       "<Figure size 360x360 with 1 Axes>"
      ]
     },
     "metadata": {
      "needs_background": "light"
     },
     "output_type": "display_data"
    },
    {
     "data": {
      "image/png": "[encoded data removed]",
      "text/plain": [
       "<Figure size 360x360 with 1 Axes>"
      ]
     },
     "metadata": {
      "needs_background": "light"
     },
     "output_type": "display_data"
    },
    {
     "data": {
      "image/png": "[encoded data removed]",
      "text/plain": [
       "<Figure size 360x360 with 1 Axes>"
      ]
     },
     "metadata": {
      "needs_background": "light"
     },
     "output_type": "display_data"
    },
    {
     "data": {
      "image/png": "[encoded data removed]",
      "text/plain": [
       "<Figure size 360x360 with 1 Axes>"
      ]
     },
     "metadata": {
      "needs_background": "light"
     },
     "output_type": "display_data"
    },
    {
     "data": {
      "image/png": "[encoded data removed]",
      "text/plain": [
       "<Figure size 360x360 with 1 Axes>"
      ]
     },
     "metadata": {
      "needs_background": "light"
     },
     "output_type": "display_data"
    },
    {
     "data": {
      "image/png": "[encoded data removed]",
      "text/plain": [
       "<Figure size 360x360 with 1 Axes>"
      ]
     },
     "metadata": {
      "needs_background": "light"
     },
     "output_type": "display_data"
    },
    {
     "data": {
      "image/png": "[encoded data removed]",
      "text/plain": [
       "<Figure size 360x360 with 1 Axes>"
      ]
     },
     "metadata": {
      "needs_background": "light"
     },
     "output_type": "display_data"
    },
    {
     "data": {
      "image/png": "[encoded data removed]",
      "text/plain": [
       "<Figure size 360x360 with 1 Axes>"
      ]
     },
     "metadata": {
      "needs_background": "light"
     },
     "output_type": "display_data"
    },
    {
     "data": {
      "image/png": "[encoded data removed]",
      "text/plain": [
       "<Figure size 360x360 with 1 Axes>"
      ]
     },
     "metadata": {
      "needs_background": "light"
     },
     "output_type": "display_data"
    },
    {
     "data": {
      "image/png": "[encoded data removed]",
      "text/plain": [
       "<Figure size 360x360 with 1 Axes>"
      ]
     },
     "metadata": {
      "needs_background": "light"
     },
     "output_type": "display_data"
    }
   ],
   "source": [
    "##distribution of the data\n",
    "\n",
    "for column in dfclean:\n",
    "    \n",
    "    sns.displot(x=column, data=dfclean)"
   ]
  },
  {
   "cell_type": "markdown",
   "id": "2a8efa02",
   "metadata": {},
   "source": [
    "***\n",
    "### Data Preperation 2\t(5 points total) Describe the final dataset that is used for classification/regression (include a description of any newly formed variables you created)."
   ]
  },
  {
   "cell_type": "code",
   "execution_count": 93,
   "id": "9f2f6b72",
   "metadata": {},
   "outputs": [
    {
     "name": "stdout",
     "output_type": "stream",
     "text": [
      "<class 'pandas.core.frame.DataFrame'>\n",
      "RangeIndex: 103904 entries, 0 to 103903\n",
      "Data columns (total 27 columns):\n",
      " #   Column                             Non-Null Count   Dtype  \n",
      "---  ------                             --------------   -----  \n",
      " 0   Gender                             103904 non-null  object \n",
      " 1   Customer Type                      103904 non-null  object \n",
      " 2   Age                                103904 non-null  int64  \n",
      " 3   Type of Travel                     103904 non-null  object \n",
      " 4   Class                              103904 non-null  object \n",
      " 5   Flight Distance                    103904 non-null  int64  \n",
      " 6   Inflight wifi service              103904 non-null  int64  \n",
      " 7   Departure/Arrival time convenient  103904 non-null  int64  \n",
      " 8   Ease of Online booking             103904 non-null  int64  \n",
      " 9   Gate location                      103904 non-null  int64  \n",
      " 10  Food and drink                     103904 non-null  int64  \n",
      " 11  Online boarding                    103904 non-null  int64  \n",
      " 12  Seat comfort                       103904 non-null  int64  \n",
      " 13  Inflight entertainment             103904 non-null  int64  \n",
      " 14  On-board service                   103904 non-null  int64  \n",
      " 15  Leg room service                   103904 non-null  int64  \n",
      " 16  Baggage handling                   103904 non-null  int64  \n",
      " 17  Checkin service                    103904 non-null  int64  \n",
      " 18  Inflight service                   103904 non-null  int64  \n",
      " 19  Cleanliness                        103904 non-null  int64  \n",
      " 20  Departure Delay in Minutes         103904 non-null  int64  \n",
      " 21  Arrival Delay in Minutes           103904 non-null  float64\n",
      " 22  satisfaction                       103904 non-null  object \n",
      " 23  GenderNumeric                      103904 non-null  int32  \n",
      " 24  CustomerTypeNumeric                103904 non-null  int32  \n",
      " 25  TypeofTravelNumeric                103904 non-null  int32  \n",
      " 26  ClassNumeric                       103904 non-null  int64  \n",
      "dtypes: float64(1), int32(3), int64(18), object(5)\n",
      "memory usage: 20.2+ MB\n",
      "None\n"
     ]
    }
   ],
   "source": [
    "print (dfclean.info())"
   ]
  },
  {
   "cell_type": "markdown",
   "id": "faab977c",
   "metadata": {},
   "source": [
    "#### Summary of values to be used in classification modeling\n",
    "A total of +100,000 passenger results are recorded in this data set.\n",
    "We have a combination of categorical, ordinal and continous variable in this dataset.\n",
    "\n",
    "- __Gender:__- Gender of the passengers (Female, Male) - Categorical Variable\n",
    "- __Customer Type:__- The customer type (Loyal customer, disloyal customer) - Categorical Variable\n",
    "- __Age:__- The actual age of the passengers - Continous Variable\n",
    "- __Type of Travel:__- Purpose of the flight of the passengers (Personal Travel, Business Travel) - Categorical Variable\n",
    "- __Class:__- Travel class in the plane of the passengers (Business, Eco, Eco Plus) - Categorical Variable\n",
    "- __Flight distance:__- The flight distance of this journey - Continous Variable\n",
    "- __Inflight wifi service:__- Satisfaction level of the inflight wifi service (0:Not Applicable;1-5) - Categorical Variable\n",
    "- __Departure/Arrival time convenient:__- Satisfaction level of Departure/Arrival time convenient - Categorical Variable\n",
    "- __Ease of Online booking:__- Satisfaction level of online booking - Categorical Variable\n",
    "- __Gate location:__- Satisfaction level of Gate location - Categorical Variable\n",
    "- __Food and drink:__- Satisfaction level of Food and drink - Categorical Variable\n",
    "- __Online boarding:__- Satisfaction level of online boarding - Categorical Variable\n",
    "- __Seat comfort:__- Satisfaction level of Seat comfort - Categorical Variable\n",
    "- __Inflight entertainment:__- Satisfaction level of inflight entertainment - Categorical Variable\n",
    "- __On-board service:__- Satisfaction level of On-board service - Categorical Variable\n",
    "- __Leg room service:__- Satisfaction level of Leg room service - Categorical Variable\n",
    "- __Baggage handling:__- Satisfaction level of baggage handling - Categorical Variable\n",
    "- __Check-in service:__- Satisfaction level of Check-in service - Categorical Variable\n",
    "- __Inflight service:__- Satisfaction level of inflight service - Categorical Variable\n",
    "- __Cleanliness:__- Satisfaction level of Cleanliness - Categorical Variable\n",
    "- __Departure Delay in Minutes:__- Minutes delayed when departure - Continous Variable\n",
    "- __Arrival Delay in Minutes:__- Minutes delayed when Arrival - Continous Variable\n",
    "- __Satisfaction:__- Airline satisfaction level(Satisfaction, neutral or dissatisfaction) - Categorical Variable"
   ]
  },
  {
   "cell_type": "markdown",
   "id": "cb164963",
   "metadata": {},
   "source": [
    "***\n",
    "### Modeling and Evaluation 1 (10 points total) Choose and explain your evaluation metrics that you will use (i.e., accuracy, precision, recall, F-measure, or any metric we have discussed). Why are the measure(s) appropriate for analyzing the results of your modeling? Give a detailed explanation backing up any assertions.\n"
   ]
  },
  {
   "cell_type": "markdown",
   "id": "8140652f",
   "metadata": {},
   "source": [
    "#### What is the F1-measure?\n",
    "> - F1 measurement consider the combination of  both precision and recall to computed a models performance. Interpretation of the F1 score is a weighted average of the precision and recall values.  When F1 score reaches 1, it is consider to have the best probable model performance while 0 would define it the worst.\n",
    "\n",
    "#### What does it mean in our model?\n",
    "> 1) If the model predicts unsatisfied/neutral customers as satisfied customers (high false negatives), the recall probability of our model would be low, and from an airline stand point they could be losing revenue assuming that all things are all right.  We want the model to pin point unsatisfied/neutral customers to ensure the company focuses on the right priorities to maximize revenues and profits. As a result of this, we want a high recall score as we do not want our model to label a unsatisfied/neutral customers as satisfied customers.\n",
    "\n",
    "> 2) If the model predicts lots of satisfied customers as unsatisfied/neutral customers (high false positives), the precision probability of our model would be low.  This may result in airlines prioritizing investments into intiatives to improve satisfaction when they don't need to resulting in possible lower profies.  As a a reult of this, we want a high precision score to optimize the airlines profits to avoid wasted investments in which we want the model not to label satisfied customers as a unsatisfied/neutral customers.\n",
    "\n",
    "Given an airline wants to maximize revenues and profits through customer satification, the model requires to have high precision and recall score.  As such, the measure of the F1 score suffices to manage model performance as both these  metrics are contained in this measure. To achieve the most optimal model, our model should have the highest F1 score"
   ]
  },
  {
   "cell_type": "markdown",
   "id": "600562cc",
   "metadata": {},
   "source": [
    "***\n",
    "### Modeling and Evaluation 2 (10 points total) Choose the method you will use for dividing your data into training and testing splits (i.e., are you using Stratified 10-fold cross validation? Why?). Explain why your chosen method is appropriate or use more than one method as appropriate. For example, if you are using time series data then you should be using continuous training and testing sets across time."
   ]
  },
  {
   "cell_type": "markdown",
   "id": "2e07b28c",
   "metadata": {},
   "source": [
    "#### Let's check our dataset to see if we have an unbalanced dataset\n",
    "Before we determine how we train our data, we are going to check our dataset to see if we have an unbalanced dataset"
   ]
  },
  {
   "cell_type": "code",
   "execution_count": 94,
   "id": "365bccf2",
   "metadata": {},
   "outputs": [
    {
     "name": "stdout",
     "output_type": "stream",
     "text": [
      "neutral or dissatisfied    58879\n",
      "satisfied                  45025\n",
      "Name: satisfaction, dtype: int64\n"
     ]
    },
    {
     "data": {
      "text/plain": [
       "<AxesSubplot:ylabel='Type'>"
      ]
     },
     "execution_count": 94,
     "metadata": {},
     "output_type": "execute_result"
    },
    {
     "data": {
      "image/png": "[encoded data removed]",
      "text/plain": [
       "<Figure size 720x360 with 1 Axes>"
      ]
     },
     "metadata": {},
     "output_type": "display_data"
    }
   ],
   "source": [
    "print(df[\"satisfaction\"].value_counts())\n",
    "\n",
    "fig = plt.figure(figsize=(10, 5))\n",
    "df.groupby('satisfaction').size().plot(kind='pie',\n",
    "                                       y = \"satisfaction\",\n",
    "                                       label = \"Type\",\n",
    "                                       autopct='%1.0f%%')"
   ]
  },
  {
   "cell_type": "code",
   "execution_count": 95,
   "id": "0a28f515",
   "metadata": {},
   "outputs": [],
   "source": [
    "dfclean[\"satisfaction\"] = dfclean[\"satisfaction\"].apply(lambda x: 1 if x == \"satisfied\" else 0)"
   ]
  },
  {
   "cell_type": "markdown",
   "id": "5b575bf1",
   "metadata": {},
   "source": [
    "#### Method to train and test model\n",
    "\n",
    "We will use repeated (10 times) 10-fold cross validation for our analysis."
   ]
  },
  {
   "cell_type": "code",
   "execution_count": 96,
   "id": "f796a406",
   "metadata": {},
   "outputs": [],
   "source": [
    "from numpy import mean\n",
    "from numpy import std\n",
    "from sklearn.model_selection import cross_val_score"
   ]
  },
  {
   "cell_type": "code",
   "execution_count": 97,
   "id": "357e3fb4",
   "metadata": {},
   "outputs": [
    {
     "data": {
      "text/html": [
       "<div>\n",
       "<style scoped>\n",
       "    .dataframe tbody tr th:only-of-type {\n",
       "        vertical-align: middle;\n",
       "    }\n",
       "\n",
       "    .dataframe tbody tr th {\n",
       "        vertical-align: top;\n",
       "    }\n",
       "\n",
       "    .dataframe thead th {\n",
       "        text-align: right;\n",
       "    }\n",
       "</style>\n",
       "<table border=\"1\" class=\"dataframe\">\n",
       "  <thead>\n",
       "    <tr style=\"text-align: right;\">\n",
       "      <th></th>\n",
       "      <th>id</th>\n",
       "      <th>Age</th>\n",
       "      <th>Flight Distance</th>\n",
       "      <th>Inflight wifi service</th>\n",
       "      <th>Departure/Arrival time convenient</th>\n",
       "      <th>Ease of Online booking</th>\n",
       "      <th>Gate location</th>\n",
       "      <th>Food and drink</th>\n",
       "      <th>Online boarding</th>\n",
       "      <th>Seat comfort</th>\n",
       "      <th>...</th>\n",
       "      <th>Baggage handling</th>\n",
       "      <th>Checkin service</th>\n",
       "      <th>Inflight service</th>\n",
       "      <th>Cleanliness</th>\n",
       "      <th>Departure Delay in Minutes</th>\n",
       "      <th>Arrival Delay in Minutes</th>\n",
       "      <th>GenderNumeric</th>\n",
       "      <th>CustomerTypeNumeric</th>\n",
       "      <th>TypeofTravelNumeric</th>\n",
       "      <th>ClassNumeric</th>\n",
       "    </tr>\n",
       "  </thead>\n",
       "  <tbody>\n",
       "    <tr>\n",
       "      <th>0</th>\n",
       "      <td>70172</td>\n",
       "      <td>13</td>\n",
       "      <td>460</td>\n",
       "      <td>3</td>\n",
       "      <td>4</td>\n",
       "      <td>3</td>\n",
       "      <td>1</td>\n",
       "      <td>5</td>\n",
       "      <td>3</td>\n",
       "      <td>5</td>\n",
       "      <td>...</td>\n",
       "      <td>4</td>\n",
       "      <td>4</td>\n",
       "      <td>5</td>\n",
       "      <td>5</td>\n",
       "      <td>25</td>\n",
       "      <td>18.0</td>\n",
       "      <td>1</td>\n",
       "      <td>1</td>\n",
       "      <td>1</td>\n",
       "      <td>1</td>\n",
       "    </tr>\n",
       "    <tr>\n",
       "      <th>1</th>\n",
       "      <td>5047</td>\n",
       "      <td>25</td>\n",
       "      <td>235</td>\n",
       "      <td>3</td>\n",
       "      <td>2</td>\n",
       "      <td>3</td>\n",
       "      <td>3</td>\n",
       "      <td>1</td>\n",
       "      <td>3</td>\n",
       "      <td>1</td>\n",
       "      <td>...</td>\n",
       "      <td>3</td>\n",
       "      <td>1</td>\n",
       "      <td>4</td>\n",
       "      <td>1</td>\n",
       "      <td>1</td>\n",
       "      <td>6.0</td>\n",
       "      <td>1</td>\n",
       "      <td>0</td>\n",
       "      <td>0</td>\n",
       "      <td>2</td>\n",
       "    </tr>\n",
       "    <tr>\n",
       "      <th>2</th>\n",
       "      <td>110028</td>\n",
       "      <td>26</td>\n",
       "      <td>1142</td>\n",
       "      <td>2</td>\n",
       "      <td>2</td>\n",
       "      <td>2</td>\n",
       "      <td>2</td>\n",
       "      <td>5</td>\n",
       "      <td>5</td>\n",
       "      <td>5</td>\n",
       "      <td>...</td>\n",
       "      <td>4</td>\n",
       "      <td>4</td>\n",
       "      <td>4</td>\n",
       "      <td>5</td>\n",
       "      <td>0</td>\n",
       "      <td>0.0</td>\n",
       "      <td>0</td>\n",
       "      <td>1</td>\n",
       "      <td>0</td>\n",
       "      <td>2</td>\n",
       "    </tr>\n",
       "    <tr>\n",
       "      <th>3</th>\n",
       "      <td>24026</td>\n",
       "      <td>25</td>\n",
       "      <td>562</td>\n",
       "      <td>2</td>\n",
       "      <td>5</td>\n",
       "      <td>5</td>\n",
       "      <td>5</td>\n",
       "      <td>2</td>\n",
       "      <td>2</td>\n",
       "      <td>2</td>\n",
       "      <td>...</td>\n",
       "      <td>3</td>\n",
       "      <td>1</td>\n",
       "      <td>4</td>\n",
       "      <td>2</td>\n",
       "      <td>11</td>\n",
       "      <td>9.0</td>\n",
       "      <td>0</td>\n",
       "      <td>1</td>\n",
       "      <td>0</td>\n",
       "      <td>2</td>\n",
       "    </tr>\n",
       "    <tr>\n",
       "      <th>4</th>\n",
       "      <td>119299</td>\n",
       "      <td>61</td>\n",
       "      <td>214</td>\n",
       "      <td>3</td>\n",
       "      <td>3</td>\n",
       "      <td>3</td>\n",
       "      <td>3</td>\n",
       "      <td>4</td>\n",
       "      <td>5</td>\n",
       "      <td>5</td>\n",
       "      <td>...</td>\n",
       "      <td>4</td>\n",
       "      <td>3</td>\n",
       "      <td>3</td>\n",
       "      <td>3</td>\n",
       "      <td>0</td>\n",
       "      <td>0.0</td>\n",
       "      <td>1</td>\n",
       "      <td>1</td>\n",
       "      <td>0</td>\n",
       "      <td>2</td>\n",
       "    </tr>\n",
       "  </tbody>\n",
       "</table>\n",
       "<p>5 rows × 23 columns</p>\n",
       "</div>"
      ],
      "text/plain": [
       "       id  Age  Flight Distance  Inflight wifi service  \\\n",
       "0   70172   13              460                      3   \n",
       "1    5047   25              235                      3   \n",
       "2  110028   26             1142                      2   \n",
       "3   24026   25              562                      2   \n",
       "4  119299   61              214                      3   \n",
       "\n",
       "   Departure/Arrival time convenient  Ease of Online booking  Gate location  \\\n",
       "0                                  4                       3              1   \n",
       "1                                  2                       3              3   \n",
       "2                                  2                       2              2   \n",
       "3                                  5                       5              5   \n",
       "4                                  3                       3              3   \n",
       "\n",
       "   Food and drink  Online boarding  Seat comfort  ...  Baggage handling  \\\n",
       "0               5                3             5  ...                 4   \n",
       "1               1                3             1  ...                 3   \n",
       "2               5                5             5  ...                 4   \n",
       "3               2                2             2  ...                 3   \n",
       "4               4                5             5  ...                 4   \n",
       "\n",
       "   Checkin service  Inflight service  Cleanliness  Departure Delay in Minutes  \\\n",
       "0                4                 5            5                          25   \n",
       "1                1                 4            1                           1   \n",
       "2                4                 4            5                           0   \n",
       "3                1                 4            2                          11   \n",
       "4                3                 3            3                           0   \n",
       "\n",
       "   Arrival Delay in Minutes  GenderNumeric  CustomerTypeNumeric  \\\n",
       "0                      18.0              1                    1   \n",
       "1                       6.0              1                    0   \n",
       "2                       0.0              0                    1   \n",
       "3                       9.0              0                    1   \n",
       "4                       0.0              1                    1   \n",
       "\n",
       "   TypeofTravelNumeric  ClassNumeric  \n",
       "0                    1             1  \n",
       "1                    0             2  \n",
       "2                    0             2  \n",
       "3                    0             2  \n",
       "4                    0             2  \n",
       "\n",
       "[5 rows x 23 columns]"
      ]
     },
     "execution_count": 97,
     "metadata": {},
     "output_type": "execute_result"
    }
   ],
   "source": [
    "from sklearn.model_selection import RepeatedStratifiedKFold\n",
    "x = df.drop([\"satisfaction\", \"Class\", \"Gender\", \"Customer Type\", \"Type of Travel\"],axis=1)\n",
    "y = df['satisfaction']\n",
    "cv = RepeatedStratifiedKFold(n_splits=10, n_repeats=10, random_state=1)\n",
    "x2 = df.drop([\"satisfaction\",\"Class\", \"Gender\", \"Customer Type\", \"Type of Travel\"], axis = 1)\n",
    "y2 = df['satisfaction']\n",
    "\n",
    "x.head()"
   ]
  },
  {
   "cell_type": "markdown",
   "id": "0b2b1570",
   "metadata": {},
   "source": [
    "***\n",
    "### Modeling and Evaluation 3 (20 points total) Create three different classification/regression models for each task (e.g., random forest, KNN, and SVM for task one and the same or different algorithms for task two). Two modeling techniques must be new (but the third could be SVM or logistic regression). Adjust parameters as appropriate to increase generalization performance using your chosen metric. You must investigate different parameters of the algorithms!\n"
   ]
  },
  {
   "cell_type": "markdown",
   "id": "3780cf64",
   "metadata": {},
   "source": [
    "#### Logistic Regresion"
   ]
  },
  {
   "cell_type": "code",
   "execution_count": 104,
   "id": "de9803a3",
   "metadata": {},
   "outputs": [
    {
     "name": "stdout",
     "output_type": "stream",
     "text": [
      "ShuffleSplit(n_splits=3, random_state=None, test_size=0.2, train_size=None)\n"
     ]
    },
    {
     "data": {
      "text/html": [
       "<div>\n",
       "<style scoped>\n",
       "    .dataframe tbody tr th:only-of-type {\n",
       "        vertical-align: middle;\n",
       "    }\n",
       "\n",
       "    .dataframe tbody tr th {\n",
       "        vertical-align: top;\n",
       "    }\n",
       "\n",
       "    .dataframe thead th {\n",
       "        text-align: right;\n",
       "    }\n",
       "</style>\n",
       "<table border=\"1\" class=\"dataframe\">\n",
       "  <thead>\n",
       "    <tr style=\"text-align: right;\">\n",
       "      <th></th>\n",
       "      <th>Age</th>\n",
       "      <th>Flight Distance</th>\n",
       "      <th>Inflight wifi service</th>\n",
       "      <th>Departure/Arrival time convenient</th>\n",
       "      <th>Ease of Online booking</th>\n",
       "      <th>Gate location</th>\n",
       "      <th>Food and drink</th>\n",
       "      <th>Online boarding</th>\n",
       "      <th>Seat comfort</th>\n",
       "      <th>Inflight entertainment</th>\n",
       "      <th>...</th>\n",
       "      <th>Baggage handling</th>\n",
       "      <th>Checkin service</th>\n",
       "      <th>Inflight service</th>\n",
       "      <th>Cleanliness</th>\n",
       "      <th>Departure Delay in Minutes</th>\n",
       "      <th>Arrival Delay in Minutes</th>\n",
       "      <th>GenderNumeric</th>\n",
       "      <th>CustomerTypeNumeric</th>\n",
       "      <th>TypeofTravelNumeric</th>\n",
       "      <th>ClassNumeric</th>\n",
       "    </tr>\n",
       "  </thead>\n",
       "  <tbody>\n",
       "    <tr>\n",
       "      <th>0</th>\n",
       "      <td>13</td>\n",
       "      <td>460</td>\n",
       "      <td>3</td>\n",
       "      <td>4</td>\n",
       "      <td>3</td>\n",
       "      <td>1</td>\n",
       "      <td>5</td>\n",
       "      <td>3</td>\n",
       "      <td>5</td>\n",
       "      <td>5</td>\n",
       "      <td>...</td>\n",
       "      <td>4</td>\n",
       "      <td>4</td>\n",
       "      <td>5</td>\n",
       "      <td>5</td>\n",
       "      <td>25</td>\n",
       "      <td>18.0</td>\n",
       "      <td>1</td>\n",
       "      <td>1</td>\n",
       "      <td>1</td>\n",
       "      <td>1</td>\n",
       "    </tr>\n",
       "    <tr>\n",
       "      <th>1</th>\n",
       "      <td>25</td>\n",
       "      <td>235</td>\n",
       "      <td>3</td>\n",
       "      <td>2</td>\n",
       "      <td>3</td>\n",
       "      <td>3</td>\n",
       "      <td>1</td>\n",
       "      <td>3</td>\n",
       "      <td>1</td>\n",
       "      <td>1</td>\n",
       "      <td>...</td>\n",
       "      <td>3</td>\n",
       "      <td>1</td>\n",
       "      <td>4</td>\n",
       "      <td>1</td>\n",
       "      <td>1</td>\n",
       "      <td>6.0</td>\n",
       "      <td>1</td>\n",
       "      <td>0</td>\n",
       "      <td>0</td>\n",
       "      <td>2</td>\n",
       "    </tr>\n",
       "    <tr>\n",
       "      <th>2</th>\n",
       "      <td>26</td>\n",
       "      <td>1142</td>\n",
       "      <td>2</td>\n",
       "      <td>2</td>\n",
       "      <td>2</td>\n",
       "      <td>2</td>\n",
       "      <td>5</td>\n",
       "      <td>5</td>\n",
       "      <td>5</td>\n",
       "      <td>5</td>\n",
       "      <td>...</td>\n",
       "      <td>4</td>\n",
       "      <td>4</td>\n",
       "      <td>4</td>\n",
       "      <td>5</td>\n",
       "      <td>0</td>\n",
       "      <td>0.0</td>\n",
       "      <td>0</td>\n",
       "      <td>1</td>\n",
       "      <td>0</td>\n",
       "      <td>2</td>\n",
       "    </tr>\n",
       "    <tr>\n",
       "      <th>3</th>\n",
       "      <td>25</td>\n",
       "      <td>562</td>\n",
       "      <td>2</td>\n",
       "      <td>5</td>\n",
       "      <td>5</td>\n",
       "      <td>5</td>\n",
       "      <td>2</td>\n",
       "      <td>2</td>\n",
       "      <td>2</td>\n",
       "      <td>2</td>\n",
       "      <td>...</td>\n",
       "      <td>3</td>\n",
       "      <td>1</td>\n",
       "      <td>4</td>\n",
       "      <td>2</td>\n",
       "      <td>11</td>\n",
       "      <td>9.0</td>\n",
       "      <td>0</td>\n",
       "      <td>1</td>\n",
       "      <td>0</td>\n",
       "      <td>2</td>\n",
       "    </tr>\n",
       "    <tr>\n",
       "      <th>4</th>\n",
       "      <td>61</td>\n",
       "      <td>214</td>\n",
       "      <td>3</td>\n",
       "      <td>3</td>\n",
       "      <td>3</td>\n",
       "      <td>3</td>\n",
       "      <td>4</td>\n",
       "      <td>5</td>\n",
       "      <td>5</td>\n",
       "      <td>3</td>\n",
       "      <td>...</td>\n",
       "      <td>4</td>\n",
       "      <td>3</td>\n",
       "      <td>3</td>\n",
       "      <td>3</td>\n",
       "      <td>0</td>\n",
       "      <td>0.0</td>\n",
       "      <td>1</td>\n",
       "      <td>1</td>\n",
       "      <td>0</td>\n",
       "      <td>2</td>\n",
       "    </tr>\n",
       "  </tbody>\n",
       "</table>\n",
       "<p>5 rows × 22 columns</p>\n",
       "</div>"
      ],
      "text/plain": [
       "   Age  Flight Distance  Inflight wifi service  \\\n",
       "0   13              460                      3   \n",
       "1   25              235                      3   \n",
       "2   26             1142                      2   \n",
       "3   25              562                      2   \n",
       "4   61              214                      3   \n",
       "\n",
       "   Departure/Arrival time convenient  Ease of Online booking  Gate location  \\\n",
       "0                                  4                       3              1   \n",
       "1                                  2                       3              3   \n",
       "2                                  2                       2              2   \n",
       "3                                  5                       5              5   \n",
       "4                                  3                       3              3   \n",
       "\n",
       "   Food and drink  Online boarding  Seat comfort  Inflight entertainment  ...  \\\n",
       "0               5                3             5                       5  ...   \n",
       "1               1                3             1                       1  ...   \n",
       "2               5                5             5                       5  ...   \n",
       "3               2                2             2                       2  ...   \n",
       "4               4                5             5                       3  ...   \n",
       "\n",
       "   Baggage handling  Checkin service  Inflight service  Cleanliness  \\\n",
       "0                 4                4                 5            5   \n",
       "1                 3                1                 4            1   \n",
       "2                 4                4                 4            5   \n",
       "3                 3                1                 4            2   \n",
       "4                 4                3                 3            3   \n",
       "\n",
       "   Departure Delay in Minutes  Arrival Delay in Minutes  GenderNumeric  \\\n",
       "0                          25                      18.0              1   \n",
       "1                           1                       6.0              1   \n",
       "2                           0                       0.0              0   \n",
       "3                          11                       9.0              0   \n",
       "4                           0                       0.0              1   \n",
       "\n",
       "   CustomerTypeNumeric  TypeofTravelNumeric  ClassNumeric  \n",
       "0                    1                    1             1  \n",
       "1                    0                    0             2  \n",
       "2                    1                    0             2  \n",
       "3                    1                    0             2  \n",
       "4                    1                    0             2  \n",
       "\n",
       "[5 rows x 22 columns]"
      ]
     },
     "execution_count": 104,
     "metadata": {},
     "output_type": "execute_result"
    }
   ],
   "source": [
    "from sklearn.model_selection import ShuffleSplit\n",
    "\n",
    "dfLR = dfclean.drop([\"Class\", \"Gender\", \"Customer Type\", \"Type of Travel\"], axis = 1)\n",
    "\n",
    "# we want to predict the X and y data as follows:\n",
    "if 'satisfaction' in dfLR:\n",
    "    y = dfLR['satisfaction'].values # get the labels we want\n",
    "    del dfLR['satisfaction'] # get rid of the class label\n",
    "    X = dfLR.values # use everything else to predict!\n",
    "\n",
    "    ## X and y are now numpy matrices, by calling 'values' on the pandas data frames we\n",
    "    #    have converted them into simple matrices to use with scikit learn\n",
    "    \n",
    "    \n",
    "# to use the cross validation object in scikit learn, we need to grab an instance\n",
    "#    of the object and set it up. This object will be able to split our data into \n",
    "#    training and testing splits\n",
    "num_cv_iterations = 3\n",
    "num_instances = len(y)\n",
    "cv_object = ShuffleSplit(n_splits=num_cv_iterations,\n",
    "                         test_size  = 0.2)\n",
    "                         \n",
    "print(cv_object)\n",
    "\n",
    "dfLR.head()"
   ]
  },
  {
   "cell_type": "code",
   "execution_count": 105,
   "id": "4999a437",
   "metadata": {
    "scrolled": false
   },
   "outputs": [
    {
     "name": "stdout",
     "output_type": "stream",
     "text": [
      "====Iteration 0  ====\n",
      "accuracy 0.8759924931427746\n",
      "confusion matrix\n",
      " [[10728  1127]\n",
      " [ 1450  7476]]\n",
      "====Iteration 1  ====\n",
      "accuracy 0.8748857129108321\n",
      "confusion matrix\n",
      " [[10614  1088]\n",
      " [ 1512  7567]]\n",
      "====Iteration 2  ====\n",
      "accuracy 0.8751744381887301\n",
      "confusion matrix\n",
      " [[10565  1123]\n",
      " [ 1471  7622]]\n"
     ]
    }
   ],
   "source": [
    "from sklearn.linear_model import LogisticRegression\n",
    "from sklearn import metrics as mt\n",
    "\n",
    "lr_clf = LogisticRegression(penalty='l2', C=1.0, class_weight=None, solver='liblinear' ) # get object\n",
    "\n",
    "iter_num=0\n",
    "\n",
    "for iter_num, (train_indices, test_indices) in enumerate(cv_object.split(X,y)):\n",
    "    lr_clf.fit(X[train_indices],y[train_indices])  # train object\n",
    "    y_hat = lr_clf.predict(X[test_indices]) # get test set precitions\n",
    "\n",
    "    # print the accuracy and confusion matrix \n",
    "    print(\"====Iteration\",iter_num,\" ====\")\n",
    "    print(\"accuracy\", mt.accuracy_score(y[test_indices],y_hat)) \n",
    "    print(\"confusion matrix\\n\",mt.confusion_matrix(y[test_indices],y_hat))"
   ]
  },
  {
   "cell_type": "markdown",
   "id": "763b04c4",
   "metadata": {},
   "source": [
    "#### Decision Tree"
   ]
  },
  {
   "cell_type": "code",
   "execution_count": 26,
   "id": "7286120e",
   "metadata": {},
   "outputs": [],
   "source": [
    "from sklearn.tree import DecisionTreeClassifier\n",
    "from sklearn.model_selection import train_test_split\n",
    "from sklearn.metrics import confusion_matrix\n",
    "DT_model = DecisionTreeClassifier()\n",
    "x_train, x_test, y_train, y_test = train_test_split(x2, y2, test_size=.2)\n"
   ]
  },
  {
   "cell_type": "code",
   "execution_count": 27,
   "id": "2abeb1a8",
   "metadata": {},
   "outputs": [
    {
     "name": "stdout",
     "output_type": "stream",
     "text": [
      "F1 Score of repeated (10 times) 10-fold cross validation: 0.946 (0.002) \n",
      "\n",
      "\n",
      "F1 Score of splitting data: 0.947 (0.002)\n"
     ]
    }
   ],
   "source": [
    "n_scores = cross_val_score(DT_model, x, y, scoring='f1_macro', cv=cv)\n",
    "print('F1 Score of repeated (10 times) 10-fold cross validation: %.3f (%.3f)' % (mean(n_scores), std(n_scores)), \"\\n\\n\")\n",
    "\n",
    "# Testing with data before resampling was done\n",
    "n_scores_test = cross_val_score(DT_model, x2, y2, cv=cv)\n",
    "print('F1 Score of splitting data: %.3f (%.3f)' % (mean(n_scores_test), std(n_scores_test)))"
   ]
  },
  {
   "cell_type": "markdown",
   "id": "e074e3fc",
   "metadata": {},
   "source": [
    "#### KNN"
   ]
  },
  {
   "cell_type": "code",
   "execution_count": null,
   "id": "772481ad",
   "metadata": {},
   "outputs": [],
   "source": [
    "from sklearn.neighbors import KNeighborsClassifier\n",
    "from sklearn.preprocessing import StandardScaler\n",
    "KNN_model = KNeighborsClassifier(n_neighbors=1)\n"
   ]
  },
  {
   "cell_type": "code",
   "execution_count": null,
   "id": "bf069886",
   "metadata": {},
   "outputs": [],
   "source": [
    "x_scaled = x\n",
    "scaler = StandardScaler()\n",
    "scaler.fit(x_scaled)\n",
    "x_scaled = scaler.transform(x_scaled)"
   ]
  },
  {
   "cell_type": "code",
   "execution_count": null,
   "id": "e81bce69",
   "metadata": {},
   "outputs": [],
   "source": [
    "knn_scores = []\n",
    "for i in list(range(1,15)):\n",
    "    knn_loop_model = KNeighborsClassifier(n_neighbors=i)\n",
    "    scores = cross_val_score(knn_loop_model, x_scaled, y, scoring='f1_macro', cv=cv)\n",
    "    knn_scores.append(mean(scores))"
   ]
  },
  {
   "cell_type": "code",
   "execution_count": null,
   "id": "a4eef1e6",
   "metadata": {},
   "outputs": [],
   "source": [
    "sns.set()\n",
    "k_scores = pd.DataFrame()\n",
    "k_scores['k'] = list(range(1, 15))\n",
    "k_scores['score'] = knn_scores\n",
    "sns.scatterplot(data=k_scores, x='k', y='score').set(title='K Values and Scores')"
   ]
  },
  {
   "cell_type": "code",
   "execution_count": null,
   "id": "add68308",
   "metadata": {},
   "outputs": [],
   "source": [
    "n_scores = cross_val_score(KNN_model, x_scaled, y, scoring='f1_macro', cv=cv)\n",
    "print('F1 Score: %.3f (%.3f)' % (mean(n_scores), std(n_scores)))"
   ]
  },
  {
   "cell_type": "markdown",
   "id": "5e187dcd",
   "metadata": {},
   "source": [
    "***\n",
    "### Modeling and Evaluation 4 (10 points total)  Analyze the results using your chosen method of evaluation. Use visualizations of the results to bolster the analysis. Explain any visuals and analyze why they are interesting to someone that might use this model."
   ]
  },
  {
   "cell_type": "markdown",
   "id": "1f2f88c3",
   "metadata": {},
   "source": [
    "#### Logistic Regresion Results"
   ]
  },
  {
   "cell_type": "code",
   "execution_count": null,
   "id": "ac1132b1",
   "metadata": {},
   "outputs": [],
   "source": [
    "#Triston will do this"
   ]
  },
  {
   "cell_type": "markdown",
   "id": "d930e07f",
   "metadata": {},
   "source": [
    "#### Decision Tree Results"
   ]
  },
  {
   "cell_type": "code",
   "execution_count": null,
   "id": "e2bc961a",
   "metadata": {},
   "outputs": [],
   "source": [
    "#ousman will do this"
   ]
  },
  {
   "cell_type": "markdown",
   "id": "a03a34f9",
   "metadata": {},
   "source": [
    "#### KNN Results"
   ]
  },
  {
   "cell_type": "code",
   "execution_count": null,
   "id": "141a0f51",
   "metadata": {},
   "outputs": [],
   "source": [
    "#Shijo will do this"
   ]
  },
  {
   "cell_type": "code",
   "execution_count": null,
   "id": "fff8bc7a",
   "metadata": {},
   "outputs": [],
   "source": []
  },
  {
   "cell_type": "code",
   "execution_count": null,
   "id": "9f806116",
   "metadata": {},
   "outputs": [],
   "source": []
  },
  {
   "cell_type": "markdown",
   "id": "e14e0c06",
   "metadata": {},
   "source": [
    "### Modeling and Evaluation 5 (10 points total) Discuss the advantages of each model for each classification task, if any. If there are not advantages, explain why. Is any model better than another? Is the difference significant with 95% confidence? Use proper statistical comparison methods. You must use statistical comparison techniques—be sure they are appropriate for your chosen method of validation as discussed in unit 7 of the course."
   ]
  },
  {
   "cell_type": "code",
   "execution_count": null,
   "id": "85570715",
   "metadata": {},
   "outputs": [],
   "source": [
    "#Doug to write bull shit for pros and cons"
   ]
  },
  {
   "cell_type": "markdown",
   "id": "cf6305be",
   "metadata": {},
   "source": [
    "### Modeling and Evaluation 6 (10 points total) Which attributes from your analysis are most important? Use proper methods discussed in class to evaluate the importance of different attributes. Discuss the results and hypothesize about why certain attributes are more important than others for a given classification task."
   ]
  },
  {
   "cell_type": "code",
   "execution_count": null,
   "id": "ef446a06",
   "metadata": {},
   "outputs": [],
   "source": []
  },
  {
   "cell_type": "code",
   "execution_count": null,
   "id": "63bf29db",
   "metadata": {},
   "outputs": [],
   "source": []
  },
  {
   "cell_type": "markdown",
   "id": "f31a98fe",
   "metadata": {},
   "source": [
    "### Deployment (5 points total) \tHow useful is your model for interested parties (i.e., the companies or organizations that might want to use it for prediction)? How would you measure the model's value if it was used by these parties? How would your deploy your model for interested parties? What other data should be collected? How often would the model need to be updated, etc.? "
   ]
  },
  {
   "cell_type": "markdown",
   "id": "22a67513",
   "metadata": {},
   "source": [
    "#Doug to write more bull shit"
   ]
  },
  {
   "cell_type": "markdown",
   "id": "c1c46dd0",
   "metadata": {},
   "source": [
    "### Exceptional Work (10 points total) You have free reign to provide additional analyses. One idea: grid search parameters in a parallelized fashion and visualize the performances across attributes. Which parameters are most significant for making a good model for each classification algorithm?"
   ]
  },
  {
   "cell_type": "code",
   "execution_count": null,
   "id": "9ab070b7",
   "metadata": {},
   "outputs": [],
   "source": [
    "#Exceptional work would be determining the optimal cutoff (e.g 0.4, 0.5, 0.6 etc)"
   ]
  },
  {
   "cell_type": "code",
   "execution_count": null,
   "id": "e24c161f",
   "metadata": {},
   "outputs": [],
   "source": []
  }
 ],
 "metadata": {
  "kernelspec": {
   "display_name": "Python 3 (ipykernel)",
   "language": "python",
   "name": "python3"
  },
  "language_info": {
   "codemirror_mode": {
    "name": "ipython",
    "version": 3
   },
   "file_extension": ".py",
   "mimetype": "text/x-python",
   "name": "python",
   "nbconvert_exporter": "python",
   "pygments_lexer": "ipython3",
   "version": "3.9.12"
  }
 },
 "nbformat": 4,
 "nbformat_minor": 5
}
