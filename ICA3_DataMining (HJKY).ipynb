{
 "cells": [
  {
   "cell_type": "code",
   "execution_count": 1,
   "metadata": {},
   "outputs": [
    {
     "data": {
      "text/html": [
       "<link href='https://fonts.googleapis.com/css?family=Passion+One' rel='stylesheet' type='text/css'><style>div.attn { font-family: 'Helvetica Neue'; font-size: 30px; line-height: 40px; color: #FFFFFF; text-align: center; margin: 30px 0; border-width: 10px 0; border-style: solid; border-color: #5AAAAA; padding: 30px 0; background-color: #DDDDFF; }hr { border: 0; background-color: #ffffff; border-top: 1px solid black; }hr.major { border-top: 10px solid #5AAA5A; }hr.minor { border: none; background-color: #ffffff; border-top: 5px dotted #CC3333; }div.bubble { width: 65%; padding: 20px; background: #DDDDDD; border-radius: 15px; margin: 0 auto; font-style: italic; color: #f00; }em { color: #AAA; }div.c1{visibility:hidden;margin:0;height:0;}div.note{color:red;}</style>"
      ],
      "text/plain": [
       "<IPython.core.display.HTML object>"
      ]
     },
     "execution_count": 1,
     "metadata": {},
     "output_type": "execute_result"
    }
   ],
   "source": [
    "#  Ebnable HTML/CSS \n",
    "from IPython.core.display import HTML\n",
    "HTML(\"<link href='https://fonts.googleapis.com/css?family=Passion+One' rel='stylesheet' type='text/css'><style>div.attn { font-family: 'Helvetica Neue'; font-size: 30px; line-height: 40px; color: #FFFFFF; text-align: center; margin: 30px 0; border-width: 10px 0; border-style: solid; border-color: #5AAAAA; padding: 30px 0; background-color: #DDDDFF; }hr { border: 0; background-color: #ffffff; border-top: 1px solid black; }hr.major { border-top: 10px solid #5AAA5A; }hr.minor { border: none; background-color: #ffffff; border-top: 5px dotted #CC3333; }div.bubble { width: 65%; padding: 20px; background: #DDDDDD; border-radius: 15px; margin: 0 auto; font-style: italic; color: #f00; }em { color: #AAA; }div.c1{visibility:hidden;margin:0;height:0;}div.note{color:red;}</style>\")"
   ]
  },
  {
   "cell_type": "markdown",
   "metadata": {},
   "source": [
    "___\n",
    "Enter Team Member Names here (double click to edit):\n",
    "\n",
    "- Name 1: Triston Hudgins\n",
    "- Name 2: Shijo Joseph\n",
    "- Name 3: Douglas Yip\n",
    "\n",
    "________\n",
    "\n",
    "# In Class Assignment Three\n",
    "In the following assignment you will be asked to fill in python code and derivations for a number of different problems. Please read all instructions carefully and turn in the rendered notebook (or HTML of the rendered notebook)  before the end of class.\n",
    "\n",
    "<a id=\"top\"></a>\n",
    "## Contents\n",
    "* <a href=\"#Loading\">Loading the Data</a>\n",
    "* <a href=\"#distance\">Measuring Distances</a>\n",
    "* <a href=\"#KNN\">K-Nearest Neighbors</a>\n",
    "* <a href=\"#naive\">Naive Bayes</a>\n",
    "\n",
    "________________________________________________________________________________________________________\n",
    "<a id=\"Loading\"></a>\n",
    "<a href=\"#top\">Back to Top</a>\n",
    "## Downloading the Document Data\n",
    "Please run the following code to read in the \"20 newsgroups\" dataset from sklearn's data loading module."
   ]
  },
  {
   "cell_type": "code",
   "execution_count": 2,
   "metadata": {},
   "outputs": [],
   "source": [
    "from __future__ import print_function"
   ]
  },
  {
   "cell_type": "code",
   "execution_count": 3,
   "metadata": {},
   "outputs": [
    {
     "name": "stdout",
     "output_type": "stream",
     "text": [
      "features shape: (11314, 130107)\n",
      "target shape: (11314,)\n",
      "range of target: 0 19\n",
      "Data type is <class 'scipy.sparse.csr.csr_matrix'> 0.1214353154362896 % of the data is non-zero\n"
     ]
    }
   ],
   "source": [
    "from sklearn.datasets import fetch_20newsgroups_vectorized\n",
    "import numpy as np\n",
    "\n",
    "# this takes about 30 seconds to compute, read the next section while this downloads\n",
    "ds = fetch_20newsgroups_vectorized(subset='train')\n",
    "\n",
    "# this holds the continuous feature data (which is tfidf)\n",
    "print('features shape:', ds.data.shape) # there are ~11000 instances and ~130k features per instance\n",
    "print('target shape:', ds.target.shape) \n",
    "print('range of target:', np.min(ds.target),np.max(ds.target))\n",
    "print('Data type is', type(ds.data), float(ds.data.nnz)/(ds.data.shape[0]*ds.data.shape[1])*100, '% of the data is non-zero')"
   ]
  },
  {
   "cell_type": "markdown",
   "metadata": {},
   "source": [
    "## Understanding the Dataset\n",
    "Look at the description for the 20 newsgroups dataset at http://qwone.com/~jason/20Newsgroups/. You have just downloaded the \"vectorized\" version of the dataset, which means all the words inside the articles have gone through a transformation that binned them into 130 thousand features related to the words in them.  \n",
    "\n",
    "**Question Set 1**:\n",
    "- How many instances are in the dataset? \n",
    "- What does each instance represent? \n",
    "- How many classes are in the dataset and what does each class represent?\n",
    "- Would you expect a classifier trained on this data would generalize to documents written in the past week? Why or why not?\n",
    "- Is the data represented as a sparse or dense matrix?"
   ]
  },
  {
   "cell_type": "markdown",
   "metadata": {},
   "source": [
    "How many instances are in the dataset?\n",
    "\n",
    "> Answer - 11314\n",
    "\n",
    "What does each instance represent?\n",
    "\n",
    "> Answer - Each newsgroup document written by the 20 different newsgroups\n",
    "\n",
    "How many classes are in the dataset and what does each class represent?\n",
    "\n",
    "> Answer - (range of target: 0 19) There are 20 classes in the dataset and each represents a different newsgroup.\n",
    "\n",
    "Would you expect a classifier trained on this data would generalize to documents written in the past week? Why or why not?\n",
    "\n",
    "> Answer - No because the events are from 25 years ago and literature and written has changed over the quarter century.\n",
    "\n",
    "Is the data represented as a sparse or dense matrix?\n",
    "\n",
    "> Answer - Dense matrix\n",
    "\n",
    "\n"
   ]
  },
  {
   "cell_type": "markdown",
   "metadata": {},
   "source": [
    "___\n",
    "<a id=\"distance\"></a>\n",
    "<a href=\"#top\">Back to Top</a>\n",
    "## Measures of Distance\n",
    "In the following block of code, we isolate three instances from the dataset. The instance \"`a`\" is from the group *computer graphics*, \"`b`\" is from from the group *recreation autos*, and \"`c`\" is from group *recreation motorcycle*. **Exercise for part 2**: Calculate the: \n",
    "- (1) Euclidean distance\n",
    "- (2) Cosine distance \n",
    "- (3) Jaccard similarity \n",
    "\n",
    "between each pair of instances using the imported functions below. Remember that the Jaccard similarity is only for binary valued vectors, so convert vectors to binary using a threshold. \n",
    "\n",
    "**Question for part 2**: Which distance seems more appropriate to use for this data? **Why**?"
   ]
  },
  {
   "cell_type": "code",
   "execution_count": 8,
   "metadata": {},
   "outputs": [
    {
     "name": "stdout",
     "output_type": "stream",
     "text": [
      "Instance A is from class comp.graphics\n",
      "Instance B is from class rec.autos\n",
      "Instance C is from class rec.motorcycles\n",
      "\n",
      "\n",
      "Euclidean Distance\n",
      " ab: 1.099 ac: 1.189 bc: 0.918\n",
      "\n",
      "Cosine Distance\n",
      " ab: 0.603 ac: 0.707 bc: 0.421\n",
      "\n",
      "Jaccard Dissimilarity (vectors should be boolean values)\n",
      " ab: 0.882 ac: 0.875 bc: 0.909\n",
      "\n",
      "\n",
      "Euclidean Distance creates the overall largest distance between classes which creates the most distinction.\n"
     ]
    }
   ],
   "source": [
    "from scipy.spatial.distance import cosine\n",
    "from scipy.spatial.distance import euclidean\n",
    "from scipy.spatial.distance import jaccard\n",
    "import numpy as np\n",
    "\n",
    "# get first instance (comp)\n",
    "idx = 550\n",
    "a = ds.data[idx].todense()\n",
    "a_class = ds.target_names[ds.target[idx]]\n",
    "print('Instance A is from class', a_class)\n",
    "\n",
    "# get second instance (autos)\n",
    "idx = 4000\n",
    "b = ds.data[idx].todense()\n",
    "b_class = ds.target_names[ds.target[idx]]\n",
    "print('Instance B is from class', b_class)\n",
    "\n",
    "# get third instance (motorcycle)\n",
    "idx = 7000\n",
    "c = ds.data[idx].todense()\n",
    "c_class = ds.target_names[ds.target[idx]]\n",
    "print('Instance C is from class', c_class)\n",
    "\n",
    "# Enter distance comparison below for each pair of vectors:\n",
    "p = 'Placeholder'\n",
    "print('\\n\\nEuclidean Distance\\n ab:', format(euclidean(a,b), \".3f\"), 'ac:', format(euclidean(a,c), \".3f\"), 'bc:',format(euclidean(b,c), \".3f\"))\n",
    "print('\\nCosine Distance\\n ab:', format(cosine(a,b), \".3f\"), 'ac:', format(cosine(a,c), \".3f\"), 'bc:', format(cosine(b,c), \".3f\"))\n",
    "\n",
    "#determine Jaccard binary for a b and c\n",
    "a_binary = np.where(a > a.mean(), True, False)\n",
    "b_binary = np.where(b > b.mean(), True, False)\n",
    "c_binary = np.where(c > c.mean(), True, False)\n",
    "print('\\nJaccard Dissimilarity (vectors should be boolean values)\\n ab:', format(jaccard(a_binary,b_binary), \".3f\"), 'ac:', format(jaccard(a_binary,c_binary), \".3f\"), 'bc:', format(jaccard(b_binary,c_binary), \".3f\"))\n",
    "\n",
    "print('\\n\\nEuclidean Distance creates the overall largest distance between classes which creates the most distinction.')\n"
   ]
  },
  {
   "cell_type": "markdown",
   "metadata": {},
   "source": [
    "___\n",
    "# Start of Live Session Assignment\n",
    "___\n",
    "<a id=\"KNN\"></a>\n",
    "<a href=\"#top\">Back to Top</a>\n",
    "## Using scikit-learn with KNN\n",
    "Now let's use stratified cross validation with a holdout set to train a KNN model in `scikit-learn`. Use the example below to train a KNN classifier. The documentation for `KNeighborsClassifier` is here: http://scikit-learn.org/stable/modules/generated/sklearn.neighbors.KNeighborsClassifier.html  \n",
    "\n",
    "**Exercise for part 3**: Use the code below to test what value of `n_neighbors` works best for the given data. *Note: do NOT change the metric to be anything other than `'euclidean'`. Other distance functions are not optimized for the amount of data we are working with.* \n",
    "\n",
    "**Question for part 3**: What is the accuracy of the best classifier you can create for this data (by changing only the `n_neighbors` parameter)? "
   ]
  },
  {
   "cell_type": "code",
   "execution_count": 9,
   "metadata": {},
   "outputs": [
    {
     "name": "stdout",
     "output_type": "stream",
     "text": [
      "Accuracy of classifier with 5 neighbors is: 0.20\n"
     ]
    },
    {
     "name": "stderr",
     "output_type": "stream",
     "text": [
      "C:\\Datascience\\Anaconda3\\envs\\ML7331\\lib\\site-packages\\IPython\\html.py:14: ShimWarning: The `IPython.html` package has been deprecated since IPython 4.0. You should import from `notebook` instead. `IPython.html.widgets` has moved to `ipywidgets`.\n",
      "  \"`IPython.html.widgets` has moved to `ipywidgets`.\", ShimWarning)\n"
     ]
    }
   ],
   "source": [
    "from sklearn.model_selection import StratifiedShuffleSplit\n",
    "from sklearn.neighbors import KNeighborsClassifier\n",
    "from sklearn.metrics import accuracy_score\n",
    "from IPython.html import widgets \n",
    "\n",
    "cv = StratifiedShuffleSplit(n_splits=1, test_size = 0.5, train_size=0.5)\n",
    "\n",
    "# fill in the training and testing data and save as separate variables\n",
    "for trainidx, testidx in cv.split(ds.data,ds.target):\n",
    "    # note that these are sparse matrices\n",
    "    X_train = ds.data[trainidx] \n",
    "    X_test = ds.data[testidx] \n",
    "    y_train = ds.target[trainidx]\n",
    "    y_test = ds.target[testidx]\n",
    "\n",
    "# fill in your code  here to train and test\n",
    "# calculate the accuracy and print it for various values of K\n",
    "#K = 5 \n",
    "#clf = KNeighborsClassifier(n_neighbors=K, weights='uniform', metric='euclidean')\n",
    "\n",
    "\n",
    "#acc = 0.2 # overwrite this with the actual accuracy\n",
    "\n",
    "#=====================================\n",
    "\n",
    "#print('Accuracy of classifier with %d neighbors is: %.2f'%(K,acc))\n"
   ]
  },
  {
   "cell_type": "code",
   "execution_count": 10,
   "metadata": {},
   "outputs": [
    {
     "name": "stdout",
     "output_type": "stream",
     "text": [
      "\n",
      "\u001b[1mAccuracy:\u001b[0m 0.596 For \u001b[1mK:\u001b[0m 1\n",
      "\n",
      "\u001b[1mAccuracy:\u001b[0m 0.558 For \u001b[1mK:\u001b[0m 2\n",
      "\n",
      "\u001b[1mAccuracy:\u001b[0m 0.527 For \u001b[1mK:\u001b[0m 3\n",
      "\n",
      "\u001b[1mAccuracy:\u001b[0m 0.507 For \u001b[1mK:\u001b[0m 4\n",
      "\n",
      "\u001b[1mAccuracy:\u001b[0m 0.495 For \u001b[1mK:\u001b[0m 5\n",
      "\n",
      "\u001b[1mAccuracy:\u001b[0m 0.476 For \u001b[1mK:\u001b[0m 6\n",
      "\n",
      "\u001b[1mAccuracy:\u001b[0m 0.464 For \u001b[1mK:\u001b[0m 7\n",
      "\n",
      "\u001b[1mAccuracy:\u001b[0m 0.453 For \u001b[1mK:\u001b[0m 8\n",
      "\n",
      "\u001b[1mAccuracy:\u001b[0m 0.446 For \u001b[1mK:\u001b[0m 9\n",
      "\n",
      "\u001b[1mAccuracy:\u001b[0m 0.440 For \u001b[1mK:\u001b[0m 10\n",
      "\n",
      "\u001b[1mAccuracy:\u001b[0m 0.432 For \u001b[1mK:\u001b[0m 11\n",
      "\n",
      "\u001b[1mAccuracy:\u001b[0m 0.426 For \u001b[1mK:\u001b[0m 12\n",
      "\n",
      "\u001b[1mAccuracy:\u001b[0m 0.420 For \u001b[1mK:\u001b[0m 13\n",
      "\n",
      "\u001b[1mAccuracy:\u001b[0m 0.413 For \u001b[1mK:\u001b[0m 14\n",
      "\n",
      "\u001b[1mAccuracy:\u001b[0m 0.409 For \u001b[1mK:\u001b[0m 15\n",
      "\n",
      "\u001b[1mAccuracy:\u001b[0m 0.403 For \u001b[1mK:\u001b[0m 16\n",
      "\n",
      "\u001b[1mAccuracy:\u001b[0m 0.399 For \u001b[1mK:\u001b[0m 17\n",
      "\n",
      "\u001b[1mAccuracy:\u001b[0m 0.393 For \u001b[1mK:\u001b[0m 18\n",
      "\n",
      "\u001b[1mAccuracy:\u001b[0m 0.386 For \u001b[1mK:\u001b[0m 19\n",
      "\n",
      "\u001b[1mAccuracy:\u001b[0m 0.378 For \u001b[1mK:\u001b[0m 20\n",
      "\n",
      "\u001b[1mAccuracy:\u001b[0m 0.377 For \u001b[1mK:\u001b[0m 21\n",
      "\n",
      "\u001b[1mAccuracy:\u001b[0m 0.375 For \u001b[1mK:\u001b[0m 22\n",
      "\n",
      "\u001b[1mAccuracy:\u001b[0m 0.369 For \u001b[1mK:\u001b[0m 23\n",
      "\n",
      "\u001b[1mAccuracy:\u001b[0m 0.363 For \u001b[1mK:\u001b[0m 24\n",
      "\n",
      "\u001b[1mAccuracy:\u001b[0m 0.359 For \u001b[1mK:\u001b[0m 25\n",
      "\n",
      "\u001b[1mAccuracy:\u001b[0m 0.356 For \u001b[1mK:\u001b[0m 26\n",
      "\n",
      "\u001b[1mAccuracy:\u001b[0m 0.352 For \u001b[1mK:\u001b[0m 27\n",
      "\n",
      "\u001b[1mAccuracy:\u001b[0m 0.349 For \u001b[1mK:\u001b[0m 28\n",
      "\n",
      "\u001b[1mAccuracy:\u001b[0m 0.345 For \u001b[1mK:\u001b[0m 29\n"
     ]
    }
   ],
   "source": [
    "#create loop on the formula from question to identify the best k\n",
    "results = []\n",
    "for i in range(1,30):\n",
    "\n",
    "    k = i\n",
    "    clf = KNeighborsClassifier(n_neighbors=k, weights='uniform', metric='euclidean')\n",
    "    clf.fit(X_train, y_train)\n",
    "    y_pred = clf.predict(X_test)\n",
    "    accuracy = accuracy_score(y_test, y_pred)\n",
    "        \n",
    "    print('\\n\\033[1m' + 'Accuracy of classifier ->'+ '\\033[0m', format(accuracy, \".3f\"), '[1m' +\"K -\"+ '\\033[0m', k)\n",
    "    results.append((accuracy,k))"
   ]
  },
  {
   "cell_type": "markdown",
   "metadata": {},
   "source": [
    "The best accuracy is 0.596 with K=1 neighbors."
   ]
  },
  {
   "cell_type": "markdown",
   "metadata": {},
   "source": [
    "**Question for part 3**: With sparse data, does the use of a KDTree representation make sense? Why or Why not?"
   ]
  },
  {
   "cell_type": "markdown",
   "metadata": {},
   "source": [
    "Enter your answer below\n",
    "> -No, because sparse data sets cannot be divided by null values.\n",
    "___"
   ]
  },
  {
   "cell_type": "markdown",
   "metadata": {
    "collapsed": true
   },
   "source": [
    "_____\n",
    "## KNN extensions - Centroids\n",
    "Now lets look at a very closely related classifier to KNN, called nearest centroid. In this classifier (which is more appropriate for big data scenarios and sparse data), the training step is used to calculate the centroids for each class. These centroids are saved. Unknown attributes, at prediction time, only need to have distances calculated for each saved centroid, drastically decreasing the time required for a prediction. \n",
    "\n",
    "**Exercise for part 4**: Use the template code below to create a nearest centroid classifier. Test which metric has the best cross validated performance: Euclidean, Cosine, or Manhattan. In `scikit-learn` you can see the documentation for NearestCentroid here: \n",
    "- http://scikit-learn.org/stable/modules/generated/sklearn.neighbors.NearestCentroid.html#sklearn.neighbors.NearestCentroid\n",
    "\n",
    "and for supported distance metrics here:\n",
    "- http://scikit-learn.org/stable/modules/generated/sklearn.metrics.pairwise.distance_metrics.html#sklearn.metrics.pairwise.distance_metrics"
   ]
  },
  {
   "cell_type": "code",
   "execution_count": 16,
   "metadata": {},
   "outputs": [
    {
     "name": "stdout",
     "output_type": "stream",
     "text": [
      "Euclidian Percentage Accuracy:\u001b[0m 0.398\n"
     ]
    },
    {
     "name": "stderr",
     "output_type": "stream",
     "text": [
      "C:\\Datascience\\Anaconda3\\envs\\ML7331\\lib\\site-packages\\sklearn\\neighbors\\_nearest_centroid.py:165: UserWarning: Averaging for metrics other than euclidean and manhattan not supported. The average is set to be the mean.\n",
      "  \"Averaging for metrics other than \"\n"
     ]
    },
    {
     "name": "stdout",
     "output_type": "stream",
     "text": [
      "Cosine Percentage Accuracy:\u001b[0m 0.481\n",
      "Manhattan Percentage Accuracy:\u001b[0m 0.174\n",
      "The best distance metric is: Cosine\n"
     ]
    }
   ],
   "source": [
    "from sklearn.neighbors import NearestCentroid\n",
    "\n",
    "# the parameters for the nearest centroid metric to test are:\n",
    "#    l1, l2, and cosine (all are optimized)\n",
    "# fill in your code here\n",
    "\n",
    "clf = NearestCentroid(metric='euclidean')\n",
    "clf.fit(X_train, y_train)\n",
    "y_pred = clf.predict(X_test)\n",
    "accuracy_eu = accuracy_score(y_test, y_pred)\n",
    "print('Euclidian Percentage Accuracy:'+ '\\033[0m', format(accuracy_eu, \".3f\"))\n",
    "\n",
    "clf = NearestCentroid(metric='cosine')\n",
    "clf.fit(X_train, y_train)\n",
    "y_pred = clf.predict(X_test)\n",
    "accuracy_co = accuracy_score(y_test, y_pred)\n",
    "print('Cosine Percentage Accuracy:'+ '\\033[0m', format(accuracy_co, \".3f\"))\n",
    "\n",
    "clf = NearestCentroid(metric='manhattan')\n",
    "clf.fit(X_train, y_train)\n",
    "y_pred = clf.predict(X_test)\n",
    "accuracy_ma = accuracy_score(y_test, y_pred)\n",
    "print('Manhattan Percentage Accuracy:'+ '\\033[0m', format(accuracy_ma, \".3f\"))\n",
    "\n",
    "print('The best distance metric is: Cosine')"
   ]
  },
  {
   "cell_type": "markdown",
   "metadata": {},
   "source": [
    "___\n",
    "<a id=\"naive\"></a>\n",
    "<a href=\"#top\">Back to Top</a>\n",
    "## Naive Bayes Classification\n",
    "Now let's look at the use of the Naive Bayes classifier. The 20 newsgroups dataset has 20 classes and about 130,000 features per instance. Recall that the Naive Bayes classifer calculates a posterior distribution for each possible class. Each posterior distribution is a multiplication of many conditional distributions: \n",
    "\n",
    "$${\\arg \\max}_{j} \\left(p(class=j)\\prod_{i} p(attribute=i|class=j) \\right)$$\n",
    "\n",
    "where $p(class=j)$ is the prior and $p(attribute=i|class=j)$ is the conditional probability.\n",
    "\n",
    "**Question for part 5**: With this many classes and features, how many different conditional probabilities need to be parameterized? How many priors need to be parameterized?"
   ]
  },
  {
   "cell_type": "markdown",
   "metadata": {},
   "source": [
    "#### Answer part 5\n",
    "20 priors need to be parameterized, with 20 x 130107 = 2,602,140 conditional probabilities.\n"
   ]
  },
  {
   "cell_type": "markdown",
   "metadata": {},
   "source": [
    "___\n",
    "## Naive Bayes in Scikit-learn\n",
    "Scikit has several implementations of the Naive Bayes classifier: `GaussianNB`, `MultinomialNB`, and `BernoulliNB`. Look at the documentation here: http://scikit-learn.org/stable/modules/naive_bayes.html Take a look at each implementation and then answer this question: \n",
    "\n",
    "**Questions for part 6**: \n",
    "- If the instances contain mostly continuous attributes, would it be better to use Gaussian Naive Bayes, Multinomial Naive Bayes, or Bernoulli? And Why? \n",
    "- What if the data is sparse, does this change your answer? Why or Why not?"
   ]
  },
  {
   "cell_type": "markdown",
   "metadata": {},
   "source": [
    "#### Answer part 6\n",
    "For instances that are mostly continous attributres it is best to use Gaussian Naive Bayes because Multionoial and Bernoulli are more subitable for descrete attributes.\n",
    "\n",
    "For sparse data we would have many absence of a feature it is best to use Bernoulli because it penalizes the feature."
   ]
  },
  {
   "cell_type": "markdown",
   "metadata": {},
   "source": [
    "## Naive Bayes Comparison\n",
    "For the final section of this notebook let's compare the performance of Naive Bayes for document classification. Look at the parameters for `MultinomialNB`, and `BernoulliNB` (especially `alpha` and `binarize`). \n",
    "\n",
    "**Exercise for part 7**: Using the example code below, change the parameters for each classifier and see how accurate you can make the classifiers on the test set. \n",
    "\n",
    "**Question for part 7**: Why are these implementations so fast to train? What does the `'alpha'` value control in these models (*i.e.*, how does it change the parameterizations)? "
   ]
  },
  {
   "cell_type": "code",
   "execution_count": 20,
   "metadata": {},
   "outputs": [
    {
     "name": "stderr",
     "output_type": "stream",
     "text": [
      "C:\\Datascience\\Anaconda3\\envs\\ML7331\\lib\\site-packages\\sklearn\\naive_bayes.py:557: UserWarning: alpha too small will result in numeric errors, setting alpha = 1.0e-10\n",
      "  % _ALPHA_MIN\n"
     ]
    },
    {
     "name": "stdout",
     "output_type": "stream",
     "text": [
      "BNB Percentage Accuracy -> 0.852 alpha: 0.0\n",
      "MNB Percentage Accuracy -> 0.855 alpha: 0.0\n",
      "\n",
      "\n"
     ]
    },
    {
     "name": "stderr",
     "output_type": "stream",
     "text": [
      "C:\\Datascience\\Anaconda3\\envs\\ML7331\\lib\\site-packages\\sklearn\\naive_bayes.py:557: UserWarning: alpha too small will result in numeric errors, setting alpha = 1.0e-10\n",
      "  % _ALPHA_MIN\n"
     ]
    },
    {
     "name": "stdout",
     "output_type": "stream",
     "text": [
      "BNB Percentage Accuracy -> 0.788 alpha: 0.1\n",
      "MNB Percentage Accuracy -> 0.828 alpha: 0.1\n",
      "\n",
      "\n",
      "BNB Percentage Accuracy -> 0.762 alpha: 0.2\n",
      "MNB Percentage Accuracy -> 0.803 alpha: 0.2\n",
      "\n",
      "\n",
      "BNB Percentage Accuracy -> 0.741 alpha: 0.30000000000000004\n",
      "MNB Percentage Accuracy -> 0.782 alpha: 0.30000000000000004\n",
      "\n",
      "\n",
      "BNB Percentage Accuracy -> 0.722 alpha: 0.4\n",
      "MNB Percentage Accuracy -> 0.766 alpha: 0.4\n",
      "\n",
      "\n",
      "BNB Percentage Accuracy -> 0.702 alpha: 0.5\n",
      "MNB Percentage Accuracy -> 0.752 alpha: 0.5\n",
      "\n",
      "\n",
      "BNB Percentage Accuracy -> 0.683 alpha: 0.6000000000000001\n",
      "MNB Percentage Accuracy -> 0.740 alpha: 0.6000000000000001\n",
      "\n",
      "\n",
      "BNB Percentage Accuracy -> 0.665 alpha: 0.7000000000000001\n",
      "MNB Percentage Accuracy -> 0.728 alpha: 0.7000000000000001\n",
      "\n",
      "\n",
      "BNB Percentage Accuracy -> 0.652 alpha: 0.8\n",
      "MNB Percentage Accuracy -> 0.716 alpha: 0.8\n",
      "\n",
      "\n",
      "BNB Percentage Accuracy -> 0.639 alpha: 0.9\n",
      "MNB Percentage Accuracy -> 0.704 alpha: 0.9\n",
      "\n",
      "\n"
     ]
    }
   ],
   "source": [
    "from sklearn.naive_bayes import MultinomialNB\n",
    "from sklearn.naive_bayes import BernoulliNB\n",
    "\n",
    "\n",
    "clf_mnb = MultinomialNB(alpha=1.0)\n",
    "clf_bnb = BernoulliNB(alpha=1.0, binarize=0.0)\n",
    "\n",
    "results_bnb = []\n",
    "results_mnb = []\n",
    "for i in range(10):\n",
    "\n",
    "    alpha = 0 +i*0.1\n",
    "     \n",
    "    clf_bnb = BernoulliNB(alpha=alpha, binarize=0.0)\n",
    "    clf_bnb.fit(X_train, y_train)\n",
    "    y_pred = clf_bnb.predict(X_test)\n",
    "    accuracy = accuracy_score(y_test, y_pred)\n",
    "    print('BNB Percentage Accuracy ->', format(accuracy, \".3f\"), 'alpha:', alpha)\n",
    "    results_bnb.append((accuracy,alpha))\n",
    "    \n",
    "    \n",
    "    \n",
    "    clf_mnb = MultinomialNB(alpha=alpha)\n",
    "    clf_mnb.fit(X_train, y_train)\n",
    "    y_pred = clf_mnb.predict(X_test)\n",
    "    accuracy = accuracy_score(y_test, y_pred)\n",
    "    print('MNB Percentage Accuracy ->', format(accuracy, \".3f\"), 'alpha:', alpha)\n",
    "    results_mnb.append((accuracy,alpha))\n",
    "\n",
    "    print(\"\\n\")\n"
   ]
  },
  {
   "cell_type": "markdown",
   "metadata": {},
   "source": [
    "These classifiers are so fast because these classifiers are so fast because there is no coefficient being optimized, just the probability for each class given different attribute values.\n",
    "\n",
    "The alpha values controls how new occurrences in testing sets are handle, so that 0 probability is not present. The higher alpha is, the lower the probability."
   ]
  },
  {
   "cell_type": "markdown",
   "metadata": {
    "collapsed": true
   },
   "source": [
    "________________________________________________________________________________________________________\n",
    "\n",
    "That's all! Please **upload your rendered notebook to blackboard** and please include **team member names** in the notebook submission."
   ]
  },
  {
   "cell_type": "code",
   "execution_count": null,
   "metadata": {
    "collapsed": true
   },
   "outputs": [],
   "source": []
  }
 ],
 "metadata": {
  "kernelspec": {
   "display_name": "Python 3 (ipykernel)",
   "language": "python",
   "name": "python3"
  },
  "language_info": {
   "codemirror_mode": {
    "name": "ipython",
    "version": 3
   },
   "file_extension": ".py",
   "mimetype": "text/x-python",
   "name": "python",
   "nbconvert_exporter": "python",
   "pygments_lexer": "ipython3",
   "version": "3.7.13"
  }
 },
 "nbformat": 4,
 "nbformat_minor": 1
}
